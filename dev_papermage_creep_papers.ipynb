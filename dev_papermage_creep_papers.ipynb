{
 "cells": [
  {
   "cell_type": "code",
   "execution_count": 1,
   "metadata": {},
   "outputs": [],
   "source": [
    "%load_ext autoreload\n",
    "%autoreload 2"
   ]
  },
  {
   "cell_type": "code",
   "execution_count": 2,
   "metadata": {},
   "outputs": [],
   "source": [
    "import itertools\n",
    "import json\n",
    "import logging\n",
    "import math\n",
    "import os\n",
    "\n",
    "from matplotlib import pyplot as plt\n",
    "import pandas as pd\n",
    "import papermage\n",
    "from papermage.recipes import CoreRecipe\n",
    "from papermage.visualizers import plot_entities_on_page\n",
    "from tqdm.auto import tqdm\n",
    "\n",
    "from papermage_components.materials_recipe import MaterialsRecipe"
   ]
  },
  {
   "cell_type": "code",
   "execution_count": 3,
   "metadata": {},
   "outputs": [],
   "source": [
    "logging.basicConfig(level=logging.INFO)"
   ]
  },
  {
   "cell_type": "markdown",
   "metadata": {},
   "source": []
  },
  {
   "cell_type": "code",
   "execution_count": 4,
   "metadata": {},
   "outputs": [
    {
     "name": "stderr",
     "output_type": "stream",
     "text": [
      "INFO:MaterialsRecipe:Instantiating recipe...\n",
      "INFO:iopath.common.file_io:URL https://www.dropbox.com/s/ukbw5s673633hsw/publaynet-tf_efficientdet_d0.pth.tar?dl=1 cached in /Users/sireeshgururaja/.torch/iopath_cache/s/ukbw5s673633hsw/publaynet-tf_efficientdet_d0.pth.tar?dl=1\n",
      "INFO:timm.models._helpers:Loaded state_dict from checkpoint '/Users/sireeshgururaja/.torch/iopath_cache/s/ukbw5s673633hsw/publaynet-tf_efficientdet_d0.pth.tar?dl=1'\n",
      "/Users/sireeshgururaja/miniconda3/envs/papermage/lib/python3.11/site-packages/spacy/language.py:2141: FutureWarning: Possible set union at position 6328\n",
      "  deserializers[\"tokenizer\"] = lambda p: self.tokenizer.from_disk(  # type: ignore[union-attr]\n",
      "INFO:MaterialsRecipe:Finished instantiating recipe\n"
     ]
    }
   ],
   "source": [
    "recipe = MaterialsRecipe()"
   ]
  },
  {
   "cell_type": "code",
   "execution_count": 7,
   "metadata": {},
   "outputs": [
    {
     "data": {
      "application/vnd.jupyter.widget-view+json": {
       "model_id": "08ce28faf9824f27b4d07f0c8b7fed4e",
       "version_major": 2,
       "version_minor": 0
      },
      "text/plain": [
       "  0%|          | 0/1 [00:00<?, ?it/s]"
      ]
     },
     "metadata": {},
     "output_type": "display_data"
    },
    {
     "name": "stderr",
     "output_type": "stream",
     "text": [
      "INFO:MaterialsRecipe:Parsing document...\n",
      "INFO:MaterialsRecipe:Rasterizing document...\n",
      "INFO:MaterialsRecipe:Predicting words...\n",
      "INFO:MaterialsRecipe:Predicting sentences...\n"
     ]
    },
    {
     "ename": "AttributeError",
     "evalue": "'SciSpacySentencePredictor' object has no attribute 'spacy'",
     "output_type": "error",
     "traceback": [
      "\u001b[0;31m---------------------------------------------------------------------------\u001b[0m",
      "\u001b[0;31mAttributeError\u001b[0m                            Traceback (most recent call last)",
      "Cell \u001b[0;32mIn[7], line 1\u001b[0m\n\u001b[0;32m----> 1\u001b[0m paper_list \u001b[38;5;241m=\u001b[39m \u001b[43m[\u001b[49m\n\u001b[1;32m      2\u001b[0m \u001b[43m    \u001b[49m\u001b[43mrecipe\u001b[49m\u001b[38;5;241;43m.\u001b[39;49m\u001b[43mfrom_pdf\u001b[49m\u001b[43m(\u001b[49m\u001b[38;5;124;43mf\u001b[39;49m\u001b[38;5;124;43m\"\u001b[39;49m\u001b[38;5;124;43mdata/AM_Creep_Papers/\u001b[39;49m\u001b[38;5;132;43;01m{\u001b[39;49;00m\u001b[43mpaper_filename\u001b[49m\u001b[38;5;132;43;01m}\u001b[39;49;00m\u001b[38;5;124;43m\"\u001b[39;49m\u001b[43m)\u001b[49m\n\u001b[1;32m      3\u001b[0m \u001b[43m    \u001b[49m\u001b[38;5;28;43;01mfor\u001b[39;49;00m\u001b[43m \u001b[49m\u001b[43mpaper_filename\u001b[49m\u001b[43m \u001b[49m\u001b[38;5;129;43;01min\u001b[39;49;00m\u001b[43m \u001b[49m\u001b[43mtqdm\u001b[49m\u001b[43m(\u001b[49m\u001b[43mos\u001b[49m\u001b[38;5;241;43m.\u001b[39;49m\u001b[43mlistdir\u001b[49m\u001b[43m(\u001b[49m\u001b[38;5;124;43m\"\u001b[39;49m\u001b[38;5;124;43mdata/AM_Creep_Papers/\u001b[39;49m\u001b[38;5;124;43m\"\u001b[39;49m\u001b[43m)\u001b[49m\u001b[43m[\u001b[49m\u001b[43m:\u001b[49m\u001b[38;5;241;43m1\u001b[39;49m\u001b[43m]\u001b[49m\u001b[43m)\u001b[49m\n\u001b[1;32m      4\u001b[0m \u001b[43m]\u001b[49m\n",
      "Cell \u001b[0;32mIn[7], line 2\u001b[0m, in \u001b[0;36m<listcomp>\u001b[0;34m(.0)\u001b[0m\n\u001b[1;32m      1\u001b[0m paper_list \u001b[38;5;241m=\u001b[39m [\n\u001b[0;32m----> 2\u001b[0m     \u001b[43mrecipe\u001b[49m\u001b[38;5;241;43m.\u001b[39;49m\u001b[43mfrom_pdf\u001b[49m\u001b[43m(\u001b[49m\u001b[38;5;124;43mf\u001b[39;49m\u001b[38;5;124;43m\"\u001b[39;49m\u001b[38;5;124;43mdata/AM_Creep_Papers/\u001b[39;49m\u001b[38;5;132;43;01m{\u001b[39;49;00m\u001b[43mpaper_filename\u001b[49m\u001b[38;5;132;43;01m}\u001b[39;49;00m\u001b[38;5;124;43m\"\u001b[39;49m\u001b[43m)\u001b[49m\n\u001b[1;32m      3\u001b[0m     \u001b[38;5;28;01mfor\u001b[39;00m paper_filename \u001b[38;5;129;01min\u001b[39;00m tqdm(os\u001b[38;5;241m.\u001b[39mlistdir(\u001b[38;5;124m\"\u001b[39m\u001b[38;5;124mdata/AM_Creep_Papers/\u001b[39m\u001b[38;5;124m\"\u001b[39m)[:\u001b[38;5;241m1\u001b[39m])\n\u001b[1;32m      4\u001b[0m ]\n",
      "File \u001b[0;32m~/src/ht-max/papermage_components/materials_recipe.py:119\u001b[0m, in \u001b[0;36mMaterialsRecipe.from_pdf\u001b[0;34m(self, pdf)\u001b[0m\n\u001b[1;32m    117\u001b[0m doc\u001b[38;5;241m.\u001b[39mannotate_images(images\u001b[38;5;241m=\u001b[39m\u001b[38;5;28mlist\u001b[39m(images))\n\u001b[1;32m    118\u001b[0m \u001b[38;5;28mself\u001b[39m\u001b[38;5;241m.\u001b[39mrasterizer\u001b[38;5;241m.\u001b[39mattach_images(images\u001b[38;5;241m=\u001b[39mimages, doc\u001b[38;5;241m=\u001b[39mdoc)\n\u001b[0;32m--> 119\u001b[0m \u001b[38;5;28;01mreturn\u001b[39;00m \u001b[38;5;28;43mself\u001b[39;49m\u001b[38;5;241;43m.\u001b[39;49m\u001b[43mfrom_doc\u001b[49m\u001b[43m(\u001b[49m\u001b[43mdoc\u001b[49m\u001b[38;5;241;43m=\u001b[39;49m\u001b[43mdoc\u001b[49m\u001b[43m)\u001b[49m\n",
      "File \u001b[0;32m~/src/ht-max/papermage_components/materials_recipe.py:127\u001b[0m, in \u001b[0;36mMaterialsRecipe.from_doc\u001b[0;34m(self, doc)\u001b[0m\n\u001b[1;32m    124\u001b[0m doc\u001b[38;5;241m.\u001b[39mannotate_layer(name\u001b[38;5;241m=\u001b[39mWordsFieldName, entities\u001b[38;5;241m=\u001b[39mwords)\n\u001b[1;32m    126\u001b[0m \u001b[38;5;28mself\u001b[39m\u001b[38;5;241m.\u001b[39mlogger\u001b[38;5;241m.\u001b[39minfo(\u001b[38;5;124m\"\u001b[39m\u001b[38;5;124mPredicting sentences...\u001b[39m\u001b[38;5;124m\"\u001b[39m)\n\u001b[0;32m--> 127\u001b[0m sentences \u001b[38;5;241m=\u001b[39m \u001b[38;5;28;43mself\u001b[39;49m\u001b[38;5;241;43m.\u001b[39;49m\u001b[43msent_predictor\u001b[49m\u001b[38;5;241;43m.\u001b[39;49m\u001b[43mpredict\u001b[49m\u001b[43m(\u001b[49m\u001b[43mdoc\u001b[49m\u001b[38;5;241;43m=\u001b[39;49m\u001b[43mdoc\u001b[49m\u001b[43m)\u001b[49m\n\u001b[1;32m    128\u001b[0m doc\u001b[38;5;241m.\u001b[39mannotate_layer(name\u001b[38;5;241m=\u001b[39mSentencesFieldName, entities\u001b[38;5;241m=\u001b[39msentences)\n\u001b[1;32m    130\u001b[0m \u001b[38;5;28mself\u001b[39m\u001b[38;5;241m.\u001b[39mlogger\u001b[38;5;241m.\u001b[39minfo(\u001b[38;5;124m\"\u001b[39m\u001b[38;5;124mPredicting blocks...\u001b[39m\u001b[38;5;124m\"\u001b[39m)\n",
      "File \u001b[0;32m~/software/papermage/papermage/predictors/base_predictors/base_predictor.py:39\u001b[0m, in \u001b[0;36mBasePredictor.predict\u001b[0;34m(self, doc)\u001b[0m\n\u001b[1;32m     35\u001b[0m \u001b[38;5;250m\u001b[39m\u001b[38;5;124;03m\"\"\"For all the predictors, the input is a document object, and\u001b[39;00m\n\u001b[1;32m     36\u001b[0m \u001b[38;5;124;03mthe output is a list of annotations.\u001b[39;00m\n\u001b[1;32m     37\u001b[0m \u001b[38;5;124;03m\"\"\"\u001b[39;00m\n\u001b[1;32m     38\u001b[0m \u001b[38;5;28mself\u001b[39m\u001b[38;5;241m.\u001b[39m_doc_field_checker(doc)\n\u001b[0;32m---> 39\u001b[0m \u001b[38;5;28;01mreturn\u001b[39;00m \u001b[38;5;28;43mself\u001b[39;49m\u001b[38;5;241;43m.\u001b[39;49m\u001b[43m_predict\u001b[49m\u001b[43m(\u001b[49m\u001b[43mdoc\u001b[49m\u001b[38;5;241;43m=\u001b[39;49m\u001b[43mdoc\u001b[49m\u001b[43m)\u001b[49m\n",
      "File \u001b[0;32m~/src/ht-max/papermage_components/scispacy_sentence_predictor.py:95\u001b[0m, in \u001b[0;36mSciSpacySentencePredictor._predict\u001b[0;34m(self, doc)\u001b[0m\n\u001b[1;32m     92\u001b[0m     words \u001b[38;5;241m=\u001b[39m [token\u001b[38;5;241m.\u001b[39mtext \u001b[38;5;28;01mfor\u001b[39;00m token \u001b[38;5;129;01min\u001b[39;00m doc\u001b[38;5;241m.\u001b[39mtokens]\n\u001b[1;32m     93\u001b[0m     attr_name \u001b[38;5;241m=\u001b[39m TokensFieldName\n\u001b[0;32m---> 95\u001b[0m split \u001b[38;5;241m=\u001b[39m \u001b[38;5;28;43mself\u001b[39;49m\u001b[38;5;241;43m.\u001b[39;49m\u001b[43msplit_token_based_on_sentences_boundary\u001b[49m\u001b[43m(\u001b[49m\u001b[43mwords\u001b[49m\u001b[43m)\u001b[49m\n\u001b[1;32m     97\u001b[0m sentence_spans: List[Entity] \u001b[38;5;241m=\u001b[39m []\n\u001b[1;32m     98\u001b[0m \u001b[38;5;28;01mfor\u001b[39;00m start, end \u001b[38;5;129;01min\u001b[39;00m split:\n",
      "File \u001b[0;32m~/src/ht-max/papermage_components/scispacy_sentence_predictor.py:70\u001b[0m, in \u001b[0;36mSciSpacySentencePredictor.split_token_based_on_sentences_boundary\u001b[0;34m(self, words)\u001b[0m\n\u001b[1;32m     67\u001b[0m     char2token_mask[acc_word_len : acc_word_len \u001b[38;5;241m+\u001b[39m word_len] \u001b[38;5;241m=\u001b[39m idx\n\u001b[1;32m     68\u001b[0m     acc_word_len \u001b[38;5;241m+\u001b[39m\u001b[38;5;241m=\u001b[39m word_len\n\u001b[0;32m---> 70\u001b[0m doc \u001b[38;5;241m=\u001b[39m \u001b[38;5;28;43mself\u001b[39;49m\u001b[38;5;241;43m.\u001b[39;49m\u001b[43mspacy\u001b[49m(combined_words)\n\u001b[1;32m     71\u001b[0m segmented_sentences \u001b[38;5;241m=\u001b[39m doc\u001b[38;5;241m.\u001b[39msents\n\u001b[1;32m     72\u001b[0m segmented_sentences \u001b[38;5;241m=\u001b[39m \u001b[38;5;28mself\u001b[39m\u001b[38;5;241m.\u001b[39m_segmenter\u001b[38;5;241m.\u001b[39msegment(combined_words)\n",
      "\u001b[0;31mAttributeError\u001b[0m: 'SciSpacySentencePredictor' object has no attribute 'spacy'"
     ]
    }
   ],
   "source": [
    "paper_list = [\n",
    "    recipe.from_pdf(f\"data/AM_Creep_Papers/{paper_filename}\")\n",
    "    for paper_filename in tqdm(os.listdir(\"data/AM_Creep_Papers/\")[:1])\n",
    "]"
   ]
  },
  {
   "cell_type": "code",
   "execution_count": null,
   "metadata": {},
   "outputs": [],
   "source": [
    "print(\"\\n\\n\".join([paper.titles[0].text.replace(\"\\n\", \" \") for paper in paper_list]))"
   ]
  },
  {
   "cell_type": "code",
   "execution_count": null,
   "metadata": {},
   "outputs": [],
   "source": [
    "def highlight_relevant_entities(document):\n",
    "    page_images = []\n",
    "    for page in document.pages:\n",
    "        highlighted = page.images[0]\n",
    "        # highlighted = plot_entities_on_page(highlighted, page.tokens, box_width=0, box_alpha=0.3, box_color=\"yellow\")\n",
    "        highlighted = plot_entities_on_page(\n",
    "            highlighted, page.abstracts, box_width=2, box_alpha=0.1, box_color=\"orange\"\n",
    "        )\n",
    "        highlighted = plot_entities_on_page(\n",
    "            highlighted, page.captions, box_width=2, box_alpha=0.1, box_color=\"orange\"\n",
    "        )\n",
    "\n",
    "        highlighted = plot_entities_on_page(\n",
    "            highlighted, page.tables, box_width=2, box_alpha=0.1, box_color=\"yellow\"\n",
    "        )\n",
    "        highlighted = plot_entities_on_page(\n",
    "            highlighted, page.figures, box_width=2, box_alpha=0.1, box_color=\"yellow\"\n",
    "        )\n",
    "\n",
    "        highlighted = plot_entities_on_page(\n",
    "            highlighted, page.sections, box_width=2, box_alpha=0.1, box_color=\"green\"\n",
    "        )\n",
    "        highlighted = plot_entities_on_page(\n",
    "            highlighted, page.titles, box_width=2, box_alpha=0.1, box_color=\"green\"\n",
    "        )\n",
    "\n",
    "        highlighted = plot_entities_on_page(\n",
    "            highlighted, page.blocks, box_width=2, box_alpha=0.1, box_color=\"grey\"\n",
    "        )\n",
    "\n",
    "        page_images.append(highlighted)\n",
    "    return page_images"
   ]
  },
  {
   "cell_type": "code",
   "execution_count": null,
   "metadata": {},
   "outputs": [],
   "source": [
    "paper_iter = iter(paper_list)"
   ]
  },
  {
   "cell_type": "code",
   "execution_count": null,
   "metadata": {},
   "outputs": [],
   "source": [
    "sample_paper.sections[2].sentences"
   ]
  },
  {
   "cell_type": "code",
   "execution_count": null,
   "metadata": {},
   "outputs": [],
   "source": [
    "sample_paper.layers"
   ]
  },
  {
   "cell_type": "code",
   "execution_count": null,
   "metadata": {},
   "outputs": [],
   "source": [
    "sample_paper.sections[2]"
   ]
  },
  {
   "cell_type": "code",
   "execution_count": null,
   "metadata": {},
   "outputs": [],
   "source": [
    "sample_paper = next(paper_iter)\n",
    "print(sample_paper.titles[0].text)\n",
    "\n",
    "highlighted_doc = highlight_relevant_entities(sample_paper)\n",
    "\n",
    "n_cols = 3\n",
    "n_rows = math.ceil(len(highlighted_doc) / 3)\n",
    "fig, axes = plt.subplots(nrows=n_rows, ncols=n_cols, figsize=(17, 22), tight_layout=True)\n",
    "\n",
    "for ax in itertools.chain(*axes):\n",
    "    ax.set_axis_off()\n",
    "\n",
    "for ax, image in zip(itertools.chain(*axes), highlighted_doc):\n",
    "    ax.imshow(image.to_array())"
   ]
  },
  {
   "cell_type": "code",
   "execution_count": null,
   "metadata": {},
   "outputs": [],
   "source": [
    "for sentence in sample_paper.sentences:\n",
    "    print(sentence.text.replace(\"\\n\", \" \"))\n",
    "    print(\"\\n\")"
   ]
  },
  {
   "cell_type": "code",
   "execution_count": null,
   "metadata": {},
   "outputs": [],
   "source": [
    "for paper in paper_list:\n",
    "    paper_title = \"\"\n",
    "    for title in paper.titles:\n",
    "        if len(title.text) > len(paper_title):\n",
    "            paper_title = title.text\n",
    "    paper_sentences = [sentence.text.replace(\"\\n\", \" \") for sentence in paper.sentences]\n",
    "    paper_abstract = paper.abstracts[0].text\n",
    "    section_text = {}\n",
    "\n",
    "    with open(f\"data/AM_Creep_Papers_parsed/{paper_title.replace(' ', '_')}.json\", \"w\") as f:\n",
    "        json.dump(\n",
    "            {\n",
    "                \"title\": paper_title,\n",
    "                \"abstract\": paper_abstract,\n",
    "                \"sentences\": paper_sentences,\n",
    "                \"section_text\": section_text,\n",
    "            },\n",
    "            f,\n",
    "            indent=4,\n",
    "        )"
   ]
  },
  {
   "cell_type": "code",
   "execution_count": null,
   "metadata": {},
   "outputs": [],
   "source": [
    "type(paper_list[0])"
   ]
  },
  {
   "cell_type": "code",
   "execution_count": null,
   "metadata": {},
   "outputs": [],
   "source": [
    "from papermage import Document"
   ]
  },
  {
   "cell_type": "markdown",
   "metadata": {},
   "source": [
    "## NOTES:\n",
    "\n",
    "- Titles are _sometimes_ (but rarely) flaky\n",
    "- Figures are borked; we're really not getting much utility.\n",
    "- Captions are a little better than figures, but there's a weird level of caption agglomeration going on. Not great, but still probably workable for tables.\n",
    "- Tables seem, to be working fine!!\n",
    "- a section is occasionally missed"
   ]
  }
 ],
 "metadata": {
  "kernelspec": {
   "display_name": "papermage",
   "language": "python",
   "name": "python3"
  },
  "language_info": {
   "codemirror_mode": {
    "name": "ipython",
    "version": 3
   },
   "file_extension": ".py",
   "mimetype": "text/x-python",
   "name": "python",
   "nbconvert_exporter": "python",
   "pygments_lexer": "ipython3",
   "version": "3.11.7"
  }
 },
 "nbformat": 4,
 "nbformat_minor": 2
}
