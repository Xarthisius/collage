{
 "cells": [
  {
   "cell_type": "code",
   "execution_count": 1,
   "metadata": {
    "ExecuteTime": {
     "end_time": "2024-03-16T20:22:26.650069Z",
     "start_time": "2024-03-16T20:22:26.637095Z"
    }
   },
   "outputs": [],
   "source": [
    "%load_ext autoreload\n",
    "%autoreload 2"
   ]
  },
  {
   "cell_type": "code",
   "execution_count": 14,
   "metadata": {
    "ExecuteTime": {
     "end_time": "2024-03-16T20:25:18.414355Z",
     "start_time": "2024-03-16T20:25:18.388447Z"
    }
   },
   "outputs": [],
   "source": [
    "\n",
    "import json\n",
    "import logging\n",
    "\n",
    "from papermage_components.materials_recipe import MaterialsRecipe\n",
    "from papermage_components.constants import MAT_IE_TYPES\n"
   ]
  },
  {
   "cell_type": "code",
   "execution_count": 3,
   "metadata": {
    "ExecuteTime": {
     "end_time": "2024-03-16T20:22:29.792904Z",
     "start_time": "2024-03-16T20:22:29.768401Z"
    }
   },
   "outputs": [],
   "source": [
    "logging.basicConfig(level=logging.INFO)"
   ]
  },
  {
   "cell_type": "code",
   "execution_count": 4,
   "metadata": {
    "ExecuteTime": {
     "end_time": "2024-03-16T20:22:48.545776Z",
     "start_time": "2024-03-16T20:22:29.793744Z"
    }
   },
   "outputs": [
    {
     "name": "stderr",
     "output_type": "stream",
     "text": [
      "INFO:MaterialsRecipe:Instantiating recipe...\n"
     ]
    },
    {
     "name": "stdout",
     "output_type": "stream",
     "text": [
      "GROBID server is up and running\n"
     ]
    },
    {
     "name": "stderr",
     "output_type": "stream",
     "text": [
      "/Users/sireeshgururaja/miniconda3/envs/papermage/lib/python3.11/site-packages/spacy/util.py:910: UserWarning: [W095] Model 'en_core_sci_md' (0.5.3) was trained with spaCy v3.6.1 and may not be 100% compatible with the current version (3.7.4). If you see errors or degraded performance, download a newer compatible model or retrain your custom model with the current spaCy version. For more details and available updates, run: python -m spacy validate\n",
      "  warnings.warn(warn_msg)\n",
      "/Users/sireeshgururaja/miniconda3/envs/papermage/lib/python3.11/site-packages/spacy/language.py:2195: FutureWarning: Possible set union at position 6328\n",
      "  deserializers[\"tokenizer\"] = lambda p: self.tokenizer.from_disk(  # type: ignore[union-attr]\n",
      "INFO:MaterialsRecipe:Finished instantiating recipe\n"
     ]
    },
    {
     "name": "stdout",
     "output_type": "stream",
     "text": [
      "NER_model_dir  /Users/sireeshgururaja/src/MatIE/model vocab_dir /Users/sireeshgururaja/src/MatIE/vpack_mat output_folder  data/AM_Creep_Papers_parsed_test/\n"
     ]
    }
   ],
   "source": [
    "recipe = MaterialsRecipe(\n",
    "                        NER_model_dir = \"/Users/sireeshgururaja/src/MatIE/model\", # the directory of the NER model \n",
    "                        vocab_dir  = \"/Users/sireeshgururaja/src/MatIE/vpack_mat\", # the directory of the vocabulary \n",
    "                        output_folder = \"data/AM_Creep_Papers_parsed_test/\", # the directory of the vocabulary\n",
    "                        gpu_id = \"0\", \n",
    "                        decode_script = \"/Users/sireeshgururaja/src/MatIE/decode.sh\" # the decode module\n",
    ")"
   ]
  },
  {
   "cell_type": "code",
   "outputs": [
    {
     "name": "stderr",
     "output_type": "stream",
     "text": [
      "INFO:MaterialsRecipe:Parsing document...\n",
      "INFO:MaterialsRecipe:Getting Reading Order Sections...\n",
      "INFO:MaterialsRecipe:Parsing highlights...\n",
      "INFO:MaterialsRecipe:Rasterizing document...\n",
      "INFO:MaterialsRecipe:Predicting words...\n",
      "INFO:MaterialsRecipe:Predicting sentences...\n",
      "INFO:MaterialsRecipe:Predicting MatIE Entities...\n",
      "++ mkdir -p ../ht-max/data/AM_Creep_Papers_parsed_test/Effects_of_build_direction_and_heat_treatment_on_creep_properties_of_Ni-base_superalloy_built_up_by_additive_manufacturing\n",
      "++ python3 -m mspx.tools.al.utils_brat cmd:b2z input_path:../ht-max/data/AM_Creep_Papers_parsed_test/Effects_of_build_direction_and_heat_treatment_on_creep_properties_of_Ni-base_superalloy_built_up_by_additive_manufacturing/ output_path:../ht-max/data/AM_Creep_Papers_parsed_test/Effects_of_build_direction_and_heat_treatment_on_creep_properties_of_Ni-base_superalloy_built_up_by_additive_manufacturing/input.json delete_nils:1 convert.toker:nltk\n"
     ]
    },
    {
     "name": "stdout",
     "output_type": "stream",
     "text": [
      "Creating temporary input files\n",
      "Annotating temp files\n"
     ]
    },
    {
     "name": "stderr",
     "output_type": "stream",
     "text": [
      "Pass init to allow continue writing!!\n",
      "Initial msp2.utils.random for Time=1\n",
      "Start!! After manually init at Sat Mar 16 16:23:04 2024\n",
      "CC *cmd: /Users/sireeshgururaja/src/MatIE/mspx/tools/al/utils_brat.py cmd:b2z input_path:../ht-max/data/AM_Creep_Papers_parsed_test/Effects_of_build_direction_and_heat_treatment_on_creep_properties_of_Ni-base_superalloy_built_up_by_additive_manufacturing/ output_path:../ht-max/data/AM_Creep_Papers_parsed_test/Effects_of_build_direction_and_heat_treatment_on_creep_properties_of_Ni-base_superalloy_built_up_by_additive_manufacturing/input.json delete_nils:1 convert.toker:nltk\n",
      "CC *system: #== Sysinfo: uname_result(system='Darwin', node='wellie.wifi.local.cmu.edu', release='23.3.0', version='Darwin Kernel Version 23.3.0: Wed Dec 20 21:30:44 PST 2023; root:xnu-10002.81.5~7/RELEASE_ARM64_T6000', machine='arm64')\n",
      "None\n",
      "CC Update conf from args: ['cmd:b2z', 'input_path:../ht-max/data/AM_Creep_Papers_parsed_test/Effects_of_build_direction_and_heat_treatment_on_creep_properties_of_Ni-base_superalloy_built_up_by_additive_manufacturing/', 'output_path:../ht-max/data/AM_Creep_Papers_parsed_test/Effects_of_build_direction_and_heat_treatment_on_creep_properties_of_Ni-base_superalloy_built_up_by_additive_manufacturing/input.json', 'delete_nils:1', 'convert.toker:nltk'].\n",
      "CC Update(Loop=0) precheck_entry 'convert.toker=nltk': convert.toker = <mspx.tools.annotate.ann_nltk.AnnotatorNltkConf object at 0x101295e50> -> <mspx.tools.annotate.ann_nltk.AnnotatorNltkConf object at 0x15a2fb790>\n",
      "CC Update config 'cmd=b2z': cmd =  -> b2z\n",
      "CC Update config 'input_path=../ht-max/data/AM_Creep_Papers_parsed_test/Effects_of_build_direction_and_heat_treatment_on_creep_properties_of_Ni-base_superalloy_built_up_by_additive_manufacturing/': input_path = [] -> ['../ht-max/data/AM_Creep_Papers_parsed_test/Effects_of_build_direction_and_heat_treatment_on_creep_properties_of_Ni-base_superalloy_built_up_by_additive_manufacturing/']\n",
      "CC Update config 'output_path=../ht-max/data/AM_Creep_Papers_parsed_test/Effects_of_build_direction_and_heat_treatment_on_creep_properties_of_Ni-base_superalloy_built_up_by_additive_manufacturing/input.json': output_path =  -> ../ht-max/data/AM_Creep_Papers_parsed_test/Effects_of_build_direction_and_heat_treatment_on_creep_properties_of_Ni-base_superalloy_built_up_by_additive_manufacturing/input.json\n",
      "CC Update config 'delete_nils=1': delete_nils = False -> True\n",
      "#--\n",
      "[b2z]Read from ['../ht-max/data/AM_Creep_Papers_parsed_test/Effects_of_build_direction_and_heat_treatment_on_creep_properties_of_Ni-base_superalloy_built_up_by_additive_manufacturing/']: {'doc': 12, 'ef': 530, 'efV': 530, 'ef_C=': 530, 'rel': 301, 'relV': 301, 'sent': 103, 'tok': 2198}\n",
      "#--\n",
      "[b2z]Process ann-docs: {'alink': 301, 'alink_plain': 301, 'doc': 12, 'doc0': 12, 'frame': 530, 'frame_ef': 530, 'frame_plain': 530, 'sent': 103, 'sent0': 103}\n",
      "Write to ../ht-max/data/AM_Creep_Papers_parsed_test/Effects_of_build_direction_and_heat_treatment_on_creep_properties_of_Ni-base_superalloy_built_up_by_additive_manufacturing/input.json\n",
      "++ python3 -m mspx.tasks.zrel.main /Users/sireeshgururaja/src/MatIE/model/_conf model_load_name:/Users/sireeshgururaja/src/MatIE/model/zmodel.best.m vocab_load_dir:/Users/sireeshgururaja/src/MatIE/vpack_mat/ log_stderr:1 fs:test d_input_dir: test1.group_files: test0.test_streaming:5 test0.group_files:../ht-max/data/AM_Creep_Papers_parsed_test/Effects_of_build_direction_and_heat_treatment_on_creep_properties_of_Ni-base_superalloy_built_up_by_additive_manufacturing/input.json test0.output_file:../ht-max/data/AM_Creep_Papers_parsed_test/Effects_of_build_direction_and_heat_treatment_on_creep_properties_of_Ni-base_superalloy_built_up_by_additive_manufacturing/output.json\n",
      "## Start timer: Main at 0.761. (Sat Mar 16 16:23:06 2024)\n",
      "Pass init to allow continue writing!!\n",
      "Initial msp2.utils.random for Time=1\n",
      "Manually Random init with seed=0.\n",
      "Start!! After manually init at Sat Mar 16 16:23:06 2024\n",
      "CC *cmd: /Users/sireeshgururaja/src/MatIE/mspx/tasks/zrel/main.py /Users/sireeshgururaja/src/MatIE/model/_conf model_load_name:/Users/sireeshgururaja/src/MatIE/model/zmodel.best.m vocab_load_dir:/Users/sireeshgururaja/src/MatIE/vpack_mat/ log_stderr:1 fs:test d_input_dir: test1.group_files: test0.test_streaming:5 test0.group_files:../ht-max/data/AM_Creep_Papers_parsed_test/Effects_of_build_direction_and_heat_treatment_on_creep_properties_of_Ni-base_superalloy_built_up_by_additive_manufacturing/input.json test0.output_file:../ht-max/data/AM_Creep_Papers_parsed_test/Effects_of_build_direction_and_heat_treatment_on_creep_properties_of_Ni-base_superalloy_built_up_by_additive_manufacturing/output.json\n",
      "CC *system: #== Sysinfo: uname_result(system='Darwin', node='wellie.wifi.local.cmu.edu', release='23.3.0', version='Darwin Kernel Version 23.3.0: Wed Dec 20 21:30:44 PST 2023; root:xnu-10002.81.5~7/RELEASE_ARM64_T6000', machine='arm64')\n",
      "None\n",
      "CC Update conf from args: ['/Users/sireeshgururaja/src/MatIE/model/_conf', 'model_load_name:/Users/sireeshgururaja/src/MatIE/model/zmodel.best.m', 'vocab_load_dir:/Users/sireeshgururaja/src/MatIE/vpack_mat/', 'log_stderr:1', 'fs:test', 'd_input_dir:', 'test1.group_files:', 'test0.test_streaming:5', 'test0.group_files:../ht-max/data/AM_Creep_Papers_parsed_test/Effects_of_build_direction_and_heat_treatment_on_creep_properties_of_Ni-base_superalloy_built_up_by_additive_manufacturing/input.json', 'test0.output_file:../ht-max/data/AM_Creep_Papers_parsed_test/Effects_of_build_direction_and_heat_treatment_on_creep_properties_of_Ni-base_superalloy_built_up_by_additive_manufacturing/output.json'].\n",
      "CC Try to read config file from /Users/sireeshgururaja/src/MatIE/model/_conf.\n",
      "Warn [L1] [Mar-16-16:23:06-2024] Overwrite with config vocab_load_dir = /Users/sireeshgururaja/src/MatIE/vpack_mat/\n",
      "Warn [L1] [Mar-16-16:23:06-2024] Overwrite with config log_stderr = 1\n",
      "Warn [L1] [Mar-16-16:23:06-2024] Overwrite with config fs = test\n",
      "Warn [L1] [Mar-16-16:23:06-2024] Overwrite with config d_input_dir = \n",
      "Warn [L1] [Mar-16-16:23:06-2024] Overwrite with config test1.group_files = \n",
      "Warn [L1] [Mar-16-16:23:06-2024] Overwrite with config test0.group_files = ../ht-max/data/AM_Creep_Papers_parsed_test/Effects_of_build_direction_and_heat_treatment_on_creep_properties_of_Ni-base_superalloy_built_up_by_additive_manufacturing/input.json\n",
      "CC Update(Loop=0) precheck_entry 'tcs=enc0:sb,extH:ext,rel0:rel': tconf.tcs = None -> [['enc0', 'sb'], ['extH', 'ext'], ['rel0', 'rel']]\n",
      "CC Update(Loop=0) precheck_entry 'train0.preps0=sampler': dconf.train0.preps0 = None -> [['sampler', 'sampler']]\n",
      "CC Update(Loop=1) precheck_entry 'enc0.bconf=bmod2': tconf.enc0.mod.bconf = None -> <mspx.nn.layers2.bmod.bmod2.ZBmod2Conf object at 0x178321350>\n",
      "Update with ff_sconf: OrderedDict([('b_vpath', 'matbert-base-cased'), ('init_with_bmodel', 'matbert-base-cased'), ('enc', 'tf'), ('dec', ''), ('b_inc_dec', False), ('tie_embs2lmhead', True), ('vocab_size', 30522), ('b_mdim', 768), ('n_layers', 12), ('head_count', 12), ('ff_act', 'gelu'), ('hid_act', 'gelu'), ('d_ff', 3072), ('dropout', 0.1), ('att_drop', 0.1), ('max_abs_posi', 512), ('type_size', 2), ('layer_norm_eps', 1e-12), ('b_init_range', 0.02)])\n",
      "CC Update(Loop=2) precheck_entry 'enc0.sconf=__matbert-base-cased': tconf.enc0.mod.bconf.sconf = None -> matbert-base-cased\n",
      "Update with ff_sconf: OrderedDict([('b_vpath', 'matbert-base-cased'), ('init_with_bmodel', 'matbert-base-cased'), ('enc', 'tf'), ('dec', ''), ('b_inc_dec', False), ('tie_embs2lmhead', True), ('vocab_size', 30522), ('b_mdim', 768), ('n_layers', 12), ('head_count', 12), ('ff_act', 'gelu'), ('hid_act', 'gelu'), ('d_ff', 3072), ('dropout', 0.1), ('att_drop', 0.1), ('max_abs_posi', 512), ('type_size', 2), ('layer_norm_eps', 1e-12), ('b_init_range', 0.02)])\n",
      "Update with ff_sconf: OrderedDict([('b_vpath', 'matbert-base-cased'), ('init_with_bmodel', 'matbert-base-cased'), ('enc', 'tf'), ('dec', ''), ('b_inc_dec', False), ('tie_embs2lmhead', True), ('vocab_size', 30522), ('b_mdim', 768), ('n_layers', 12), ('head_count', 12), ('ff_act', 'gelu'), ('hid_act', 'gelu'), ('d_ff', 3072), ('dropout', 0.1), ('att_drop', 0.1), ('max_abs_posi', 512), ('type_size', 2), ('layer_norm_eps', 1e-12), ('b_init_range', 0.02)])\n",
      "CC Update(Loop=3) precheck_entry 'extH.sconf=__matbert-base-cased': tconf.extH.mod.bconf.sconf = None -> matbert-base-cased\n",
      "CC Update(Loop=3) precheck_entry 'rel0.sconf=__matbert-base-cased': tconf.rel0.mod.bconf.sconf = None -> matbert-base-cased\n",
      "CC Update config 'enc0.remain_toks=1': tconf.enc0.mod.remain_toks = False -> True\n",
      "CC Update config 'enc0.enc.n_layers=8': tconf.enc0.mod.bconf.enc.n_layers = 12 -> 8\n",
      "CC Update config 'enc0.enc.n_layer_lidxes=0,1,2,3,4,5,6,7': tconf.enc0.mod.bconf.enc.n_layer_lidxes = [] -> ['0', '1', '2', '3', '4', '5', '6', '7']\n",
      "CC Update config 'extH.input_name=enc0:enc:E': tconf.extH.mod.input_name =  -> enc0:enc:E\n",
      "CC Update config 'extH.b_inc_emb=0': tconf.extH.mod.bconf.b_inc_emb = True -> False\n",
      "CC Update config 'extH.enc.n_layers=4': tconf.extH.mod.bconf.enc.n_layers = 12 -> 4\n",
      "CC Update config 'extH.enc.n_layer_lidxes=8,9,10,11': tconf.extH.mod.bconf.enc.n_layer_lidxes = [] -> ['8', '9', '10', '11']\n",
      "CC Update config 'rel0.cateHs=ef': tconf.rel0.cateHs = [] -> ['ef']\n",
      "CC Update config 'rel0.cateTs=ef': tconf.rel0.cateTs = [] -> ['ef']\n",
      "CC Update config 'rel0.input_name=enc0:enc:E': tconf.rel0.mod.input_name =  -> enc0:enc:E\n",
      "CC Update config 'rel0.b_inc_emb=0': tconf.rel0.mod.bconf.b_inc_emb = True -> False\n",
      "CC Update config 'rel0.enc.n_layers=4': tconf.rel0.mod.bconf.enc.n_layers = 12 -> 4\n",
      "CC Update config 'rel0.enc.n_layer_lidxes=8,9,10,11': tconf.rel0.mod.bconf.enc.n_layer_lidxes = [] -> ['8', '9', '10', '11']\n",
      "CC Update config 'train0.group_files=uq0.train.ud2.json,uq1.all.ud2.json': dconf.train0.group_files = [] -> ['uq0.train.ud2.json', 'uq1.all.ud2.json']\n",
      "CC Update config 'train0.tasks=enc0,extH,rel0': dconf.train0.tasks = [] -> ['enc0', 'extH', 'rel0']\n",
      "CC Update config 'train0.len_f=subword:__matbert-base-cased': dconf.train0.batcher.len_f = word -> subword:__matbert-base-cased\n",
      "CC Update config 'train1.group_files=am.all.ud2.json': dconf.train1.group_files = [] -> ['am.all.ud2.json']\n",
      "CC Update config 'train1.tasks=enc0,extH,rel0': dconf.train1.tasks = [] -> ['enc0', 'extH', 'rel0']\n",
      "CC Update config 'train1.len_f=subword:__matbert-base-cased': dconf.train1.batcher.len_f = word -> subword:__matbert-base-cased\n",
      "CC Update config 'dev0.group_files=uq0.dev.ud2.json': dconf.dev0.group_files = [] -> ['uq0.dev.ud2.json']\n",
      "CC Update config 'dev0.tasks=enc0,extH,rel0': dconf.dev0.tasks = [] -> ['enc0', 'extH', 'rel0']\n",
      "CC Update config 'dev0.len_f=subword:__matbert-base-cased': dconf.dev0.batcher.len_f = word -> subword:__matbert-base-cased\n",
      "CC Update config 'test0.group_files=../ht-max/data/AM_Creep_Papers_parsed_test/Effects_of_build_direction_and_heat_treatment_on_creep_properties_of_Ni-base_superalloy_built_up_by_additive_manufacturing/input.json': dconf.test0.group_files = [] -> ['../ht-max/data/AM_Creep_Papers_parsed_test/Effects_of_build_direction_and_heat_treatment_on_creep_properties_of_Ni-base_superalloy_built_up_by_additive_manufacturing/input.json']\n",
      "CC Update config 'test0.tasks=enc0,extH,rel0': dconf.test0.tasks = [] -> ['enc0', 'extH', 'rel0']\n",
      "CC Update config 'test0.len_f=subword:__matbert-base-cased': dconf.test0.batcher.len_f = word -> subword:__matbert-base-cased\n",
      "CC Update config 'test1.tasks=enc0,rel0': dconf.test1.tasks = [] -> ['enc0', 'rel0']\n",
      "CC Update config 'test1.len_f=subword:__matbert-base-cased': dconf.test1.batcher.len_f = word -> subword:__matbert-base-cased\n",
      "CC Update config 'lrate.ff=1-(i-1.0)/10': rconf.lrate.ff = 1. -> 1-(i-1.0)/10\n",
      "CC Update config 'record_best_start_cidx=5': rconf.record_best_start_cidx = 0 -> 5\n",
      "CC Update config 'max_uidx=10000': rconf.max_uidx = 100000 -> 10000\n",
      "CC Update config 'model_save_suffix_curr=': rconf.model_save_suffix_curr = .curr -> \n",
      "CC Update config 'model_save_suffix_best=': rconf.model_save_suffix_best = .best -> \n",
      "CC Update config 'save_bestn=1': rconf.save_bestn = 0 -> 1\n",
      "CC Update config 'model_save_suffix_bestn=.best': rconf.model_save_suffix_bestn = .bestn -> .best\n",
      "CC Update config 'device=0': G.nn.device = -1 -> 0\n",
      "CC Update config 'fs=test': fs = [] -> ['test']\n",
      "CC Update config 'vocab_load_dir=/Users/sireeshgururaja/src/MatIE/vpack_mat/': tconf.vocab_load_dir =  -> /Users/sireeshgururaja/src/MatIE/vpack_mat/\n",
      "CC Update config 'rel0.eval.match_arg_with_frame_type=0': tconf.rel0.eval.match_arg_with_frame_type = True -> False\n",
      "CC Update config 'extH.train_cons=1': tconf.extH.mod.train_cons = False -> True\n",
      "CC Update config 'extH.pred_cons=1': tconf.extH.mod.pred_cons = False -> True\n",
      "CC Update config 'mark_extra.init_scale=0.25': tconf.rel0.mod.mark_extra.init_scale = 0.5 -> 0.25\n",
      "CC Update config 'rel0.neg_strg_thr=0.99': tconf.rel0.mod.neg_strg_thr = 1.0 -> 0.99\n",
      "CC Update config 'rel0.neg_rate.val=10': tconf.rel0.mod.neg_rate.val = -1.0 -> 10.0\n",
      "CC Update config 'rel0.neg_rate.ff=0.1*i+0.1': tconf.rel0.mod.neg_rate.ff = 1. -> 0.1*i+0.1\n",
      "CC Update config 'train0.sampler.size_f=sum(len(z) for z in x.sents)': dconf.train0.sampler.size_f = 1 -> sum(len(z) for z in x.sents)\n",
      "CC Update config 'msp_seed=0': G.utils.msp_seed = 9341 -> 0\n",
      "CC Update config 'pred_dec_cons=mat': tconf.rel0.mod.pred_dec_cons =  -> mat\n",
      "CC Update config 'train0.inst_f=sentF': dconf.train0.batcher.inst_f = sent -> sentF\n",
      "CC Update config 'train1.inst_f=sentF': dconf.train1.batcher.inst_f = sent -> sentF\n",
      "CC Update config 'model_load_name=/Users/sireeshgururaja/src/MatIE/model/zmodel.best.m': rconf.model_load_name = zmodel.best.m -> /Users/sireeshgururaja/src/MatIE/model/zmodel.best.m\n",
      "CC Update config 'test0.test_streaming=5': dconf.test0.test_streaming = 0 -> 5\n",
      "CC Update config 'test0.output_file=../ht-max/data/AM_Creep_Papers_parsed_test/Effects_of_build_direction_and_heat_treatment_on_creep_properties_of_Ni-base_superalloy_built_up_by_additive_manufacturing/output.json': dconf.test0.output_file =  -> ../ht-max/data/AM_Creep_Papers_parsed_test/Effects_of_build_direction_and_heat_treatment_on_creep_properties_of_Ni-base_superalloy_built_up_by_additive_manufacturing/output.json\n",
      "Build TaskCenter ok: TaskCenter with: ['enc0', 'extH', 'rel0']\n",
      "Create Dataset(test0_0): => 0 instances\n",
      "Load tokenizer matbert-base-cased from None: BertTokenizerFast(name_or_path='matbert-base-cased', vocab_size=30522, model_max_length=1000000000000000019884624838656, is_fast=True, padding_side='right', truncation_side='right', special_tokens={'unk_token': '[UNK]', 'sep_token': '[SEP]', 'pad_token': '[PAD]', 'cls_token': '[CLS]', 'mask_token': '[MASK]'}, clean_up_tokenization_spaces=True)\n",
      "Build DataCenter ok: DataCenter(test0:1)\n",
      "Load vocabs ``(Vocab[voc_extH]: len=(1+17+5)=23,)'' for ZTaskExt(extH) from /Users/sireeshgururaja/src/MatIE/vpack_mat/v_extH.pkl\n",
      "Load vocabs ``(Vocab[vocR_rel0]: len=(1+13+5)=19, Vocab[vocH_rel0]: len=(1+17+5)=23, Vocab[vocT_rel0]: len=(1+17+5)=23)'' for ZTaskRel(rel0) from /Users/sireeshgururaja/src/MatIE/vpack_mat/v_rel0.pkl\n",
      "Load vocabs from /Users/sireeshgururaja/src/MatIE/vpack_mat/, success=OrderedDict([('enc0', False), ('extH', True), ('rel0', True)])\n",
      "## Start timer: Main.Test at 0.419. (Sat Mar 16 16:23:07 2024)\n",
      "Load tokenizer matbert-base-cased from None: BertTokenizerFast(name_or_path='matbert-base-cased', vocab_size=30522, model_max_length=1000000000000000019884624838656, is_fast=True, padding_side='right', truncation_side='right', special_tokens={'unk_token': '[UNK]', 'sep_token': '[SEP]', 'pad_token': '[PAD]', 'cls_token': '[CLS]', 'mask_token': '[MASK]'}, clean_up_tokenization_spaces=True)\n",
      "Creating *model of matbert-base-cased from None\n",
      "Warn [L1] [Mar-16-16:23:09-2024] #== Error in strict loading:\n",
      "Traceback (most recent call last):\n",
      "  File \"/Users/sireeshgururaja/src/MatIE/mspx/nn/backends/bktr.py\", line 388, in load_mod\n",
      "    mod.load_state_dict(d, strict=True)\n",
      "  File \"/Users/sireeshgururaja/miniconda3/envs/papermage/lib/python3.11/site-packages/torch/nn/modules/module.py\", line 2152, in load_state_dict\n",
      "    raise RuntimeError('Error(s) in loading state_dict for {}:\\n\\t{}'.format(\n",
      "RuntimeError: Error(s) in loading state_dict for ZBmod2Mod:\n",
      "\tUnexpected key(s) in state_dict: \"lmhead.dense.weight\", \"lmhead.dense.bias\", \"lmhead.layer_norm.weight\", \"lmhead.layer_norm.bias\", \"lmhead.decoder.weight\", \"lmhead.decoder.bias\", \"enc.T8.attention.affine_q.linear.weight\", \"enc.T8.attention.affine_q.linear.bias\", \"enc.T8.attention.affine_k.linear.weight\", \"enc.T8.attention.affine_k.linear.bias\", \"enc.T8.attention.affine_v.linear.weight\", \"enc.T8.attention.affine_v.linear.bias\", \"enc.T8.attention.final_linear.linear.weight\", \"enc.T8.attention.final_linear.linear.bias\", \"enc.T8.att_ln.weight\", \"enc.T8.att_ln.bias\", \"enc.T8.ffn_d1.weight\", \"enc.T8.ffn_d1.bias\", \"enc.T8.ffn_d2.weight\", \"enc.T8.ffn_d2.bias\", \"enc.T8.ffn_ln.weight\", \"enc.T8.ffn_ln.bias\", \"enc.T9.attention.affine_q.linear.weight\", \"enc.T9.attention.affine_q.linear.bias\", \"enc.T9.attention.affine_k.linear.weight\", \"enc.T9.attention.affine_k.linear.bias\", \"enc.T9.attention.affine_v.linear.weight\", \"enc.T9.attention.affine_v.linear.bias\", \"enc.T9.attention.final_linear.linear.weight\", \"enc.T9.attention.final_linear.linear.bias\", \"enc.T9.att_ln.weight\", \"enc.T9.att_ln.bias\", \"enc.T9.ffn_d1.weight\", \"enc.T9.ffn_d1.bias\", \"enc.T9.ffn_d2.weight\", \"enc.T9.ffn_d2.bias\", \"enc.T9.ffn_ln.weight\", \"enc.T9.ffn_ln.bias\", \"enc.T10.attention.affine_q.linear.weight\", \"enc.T10.attention.affine_q.linear.bias\", \"enc.T10.attention.affine_k.linear.weight\", \"enc.T10.attention.affine_k.linear.bias\", \"enc.T10.attention.affine_v.linear.weight\", \"enc.T10.attention.affine_v.linear.bias\", \"enc.T10.attention.final_linear.linear.weight\", \"enc.T10.attention.final_linear.linear.bias\", \"enc.T10.att_ln.weight\", \"enc.T10.att_ln.bias\", \"enc.T10.ffn_d1.weight\", \"enc.T10.ffn_d1.bias\", \"enc.T10.ffn_d2.weight\", \"enc.T10.ffn_d2.bias\", \"enc.T10.ffn_ln.weight\", \"enc.T10.ffn_ln.bias\", \"enc.T11.attention.affine_q.linear.weight\", \"enc.T11.attention.affine_q.linear.bias\", \"enc.T11.attention.affine_k.linear.weight\", \"enc.T11.attention.affine_k.linear.bias\", \"enc.T11.attention.affine_v.linear.weight\", \"enc.T11.attention.affine_v.linear.bias\", \"enc.T11.attention.final_linear.linear.weight\", \"enc.T11.attention.final_linear.linear.bias\", \"enc.T11.att_ln.weight\", \"enc.T11.att_ln.bias\", \"enc.T11.ffn_d1.weight\", \"enc.T11.ffn_d1.bias\", \"enc.T11.ffn_d2.weight\", \"enc.T11.ffn_d2.bias\", \"enc.T11.ffn_ln.weight\", \"enc.T11.ffn_ln.bias\". \n",
      "\n",
      "#==\n",
      "Load for ZBmod2Mod[80540160] from pretrained matbert-base-cased\n",
      "Init scheduled value strg_ratio as 0.0 (changeable=False).\n",
      "Load tokenizer matbert-base-cased from None: BertTokenizerFast(name_or_path='matbert-base-cased', vocab_size=30522, model_max_length=1000000000000000019884624838656, is_fast=True, padding_side='right', truncation_side='right', special_tokens={'unk_token': '[UNK]', 'sep_token': '[SEP]', 'pad_token': '[PAD]', 'cls_token': '[CLS]', 'mask_token': '[MASK]'}, clean_up_tokenization_spaces=True)\n",
      "Creating *model of matbert-base-cased from None\n",
      "Warn [L1] [Mar-16-16:23:11-2024] #== Error in strict loading:\n",
      "Traceback (most recent call last):\n",
      "  File \"/Users/sireeshgururaja/src/MatIE/mspx/nn/backends/bktr.py\", line 388, in load_mod\n",
      "    mod.load_state_dict(d, strict=True)\n",
      "  File \"/Users/sireeshgururaja/miniconda3/envs/papermage/lib/python3.11/site-packages/torch/nn/modules/module.py\", line 2152, in load_state_dict\n",
      "    raise RuntimeError('Error(s) in loading state_dict for {}:\\n\\t{}'.format(\n",
      "RuntimeError: Error(s) in loading state_dict for ZBmod2Mod:\n",
      "\tUnexpected key(s) in state_dict: \"emb.word_embeddings.weight\", \"emb.position_embeddings.weight\", \"emb.token_type_embeddings.weight\", \"emb.layer_norm.weight\", \"emb.layer_norm.bias\", \"lmhead.dense.weight\", \"lmhead.dense.bias\", \"lmhead.layer_norm.weight\", \"lmhead.layer_norm.bias\", \"lmhead.decoder.weight\", \"lmhead.decoder.bias\", \"enc.T0.attention.affine_q.linear.weight\", \"enc.T0.attention.affine_q.linear.bias\", \"enc.T0.attention.affine_k.linear.weight\", \"enc.T0.attention.affine_k.linear.bias\", \"enc.T0.attention.affine_v.linear.weight\", \"enc.T0.attention.affine_v.linear.bias\", \"enc.T0.attention.final_linear.linear.weight\", \"enc.T0.attention.final_linear.linear.bias\", \"enc.T0.att_ln.weight\", \"enc.T0.att_ln.bias\", \"enc.T0.ffn_d1.weight\", \"enc.T0.ffn_d1.bias\", \"enc.T0.ffn_d2.weight\", \"enc.T0.ffn_d2.bias\", \"enc.T0.ffn_ln.weight\", \"enc.T0.ffn_ln.bias\", \"enc.T1.attention.affine_q.linear.weight\", \"enc.T1.attention.affine_q.linear.bias\", \"enc.T1.attention.affine_k.linear.weight\", \"enc.T1.attention.affine_k.linear.bias\", \"enc.T1.attention.affine_v.linear.weight\", \"enc.T1.attention.affine_v.linear.bias\", \"enc.T1.attention.final_linear.linear.weight\", \"enc.T1.attention.final_linear.linear.bias\", \"enc.T1.att_ln.weight\", \"enc.T1.att_ln.bias\", \"enc.T1.ffn_d1.weight\", \"enc.T1.ffn_d1.bias\", \"enc.T1.ffn_d2.weight\", \"enc.T1.ffn_d2.bias\", \"enc.T1.ffn_ln.weight\", \"enc.T1.ffn_ln.bias\", \"enc.T2.attention.affine_q.linear.weight\", \"enc.T2.attention.affine_q.linear.bias\", \"enc.T2.attention.affine_k.linear.weight\", \"enc.T2.attention.affine_k.linear.bias\", \"enc.T2.attention.affine_v.linear.weight\", \"enc.T2.attention.affine_v.linear.bias\", \"enc.T2.attention.final_linear.linear.weight\", \"enc.T2.attention.final_linear.linear.bias\", \"enc.T2.att_ln.weight\", \"enc.T2.att_ln.bias\", \"enc.T2.ffn_d1.weight\", \"enc.T2.ffn_d1.bias\", \"enc.T2.ffn_d2.weight\", \"enc.T2.ffn_d2.bias\", \"enc.T2.ffn_ln.weight\", \"enc.T2.ffn_ln.bias\", \"enc.T3.attention.affine_q.linear.weight\", \"enc.T3.attention.affine_q.linear.bias\", \"enc.T3.attention.affine_k.linear.weight\", \"enc.T3.attention.affine_k.linear.bias\", \"enc.T3.attention.affine_v.linear.weight\", \"enc.T3.attention.affine_v.linear.bias\", \"enc.T3.attention.final_linear.linear.weight\", \"enc.T3.attention.final_linear.linear.bias\", \"enc.T3.att_ln.weight\", \"enc.T3.att_ln.bias\", \"enc.T3.ffn_d1.weight\", \"enc.T3.ffn_d1.bias\", \"enc.T3.ffn_d2.weight\", \"enc.T3.ffn_d2.bias\", \"enc.T3.ffn_ln.weight\", \"enc.T3.ffn_ln.bias\", \"enc.T4.attention.affine_q.linear.weight\", \"enc.T4.attention.affine_q.linear.bias\", \"enc.T4.attention.affine_k.linear.weight\", \"enc.T4.attention.affine_k.linear.bias\", \"enc.T4.attention.affine_v.linear.weight\", \"enc.T4.attention.affine_v.linear.bias\", \"enc.T4.attention.final_linear.linear.weight\", \"enc.T4.attention.final_linear.linear.bias\", \"enc.T4.att_ln.weight\", \"enc.T4.att_ln.bias\", \"enc.T4.ffn_d1.weight\", \"enc.T4.ffn_d1.bias\", \"enc.T4.ffn_d2.weight\", \"enc.T4.ffn_d2.bias\", \"enc.T4.ffn_ln.weight\", \"enc.T4.ffn_ln.bias\", \"enc.T5.attention.affine_q.linear.weight\", \"enc.T5.attention.affine_q.linear.bias\", \"enc.T5.attention.affine_k.linear.weight\", \"enc.T5.attention.affine_k.linear.bias\", \"enc.T5.attention.affine_v.linear.weight\", \"enc.T5.attention.affine_v.linear.bias\", \"enc.T5.attention.final_linear.linear.weight\", \"enc.T5.attention.final_linear.linear.bias\", \"enc.T5.att_ln.weight\", \"enc.T5.att_ln.bias\", \"enc.T5.ffn_d1.weight\", \"enc.T5.ffn_d1.bias\", \"enc.T5.ffn_d2.weight\", \"enc.T5.ffn_d2.bias\", \"enc.T5.ffn_ln.weight\", \"enc.T5.ffn_ln.bias\", \"enc.T6.attention.affine_q.linear.weight\", \"enc.T6.attention.affine_q.linear.bias\", \"enc.T6.attention.affine_k.linear.weight\", \"enc.T6.attention.affine_k.linear.bias\", \"enc.T6.attention.affine_v.linear.weight\", \"enc.T6.attention.affine_v.linear.bias\", \"enc.T6.attention.final_linear.linear.weight\", \"enc.T6.attention.final_linear.linear.bias\", \"enc.T6.att_ln.weight\", \"enc.T6.att_ln.bias\", \"enc.T6.ffn_d1.weight\", \"enc.T6.ffn_d1.bias\", \"enc.T6.ffn_d2.weight\", \"enc.T6.ffn_d2.bias\", \"enc.T6.ffn_ln.weight\", \"enc.T6.ffn_ln.bias\", \"enc.T7.attention.affine_q.linear.weight\", \"enc.T7.attention.affine_q.linear.bias\", \"enc.T7.attention.affine_k.linear.weight\", \"enc.T7.attention.affine_k.linear.bias\", \"enc.T7.attention.affine_v.linear.weight\", \"enc.T7.attention.affine_v.linear.bias\", \"enc.T7.attention.final_linear.linear.weight\", \"enc.T7.attention.final_linear.linear.bias\", \"enc.T7.att_ln.weight\", \"enc.T7.att_ln.bias\", \"enc.T7.ffn_d1.weight\", \"enc.T7.ffn_d1.bias\", \"enc.T7.ffn_d2.weight\", \"enc.T7.ffn_d2.bias\", \"enc.T7.ffn_ln.weight\", \"enc.T7.ffn_ln.bias\". \n",
      "\n",
      "#==\n",
      "Load for ZBmod2Mod[28351488] from pretrained matbert-base-cased\n",
      "Init scheduled value strg_ratio as 0.0 (changeable=False).\n",
      "Init scheduled value neg_rate as 1.0 (changeable=True).\n",
      "Load tokenizer matbert-base-cased from None: BertTokenizerFast(name_or_path='matbert-base-cased', vocab_size=30522, model_max_length=1000000000000000019884624838656, is_fast=True, padding_side='right', truncation_side='right', special_tokens={'unk_token': '[UNK]', 'sep_token': '[SEP]', 'pad_token': '[PAD]', 'cls_token': '[CLS]', 'mask_token': '[MASK]'}, clean_up_tokenization_spaces=True)\n",
      "Creating *model of matbert-base-cased from None\n",
      "Warn [L1] [Mar-16-16:23:12-2024] #== Error in strict loading:\n",
      "Traceback (most recent call last):\n",
      "  File \"/Users/sireeshgururaja/src/MatIE/mspx/nn/backends/bktr.py\", line 388, in load_mod\n",
      "    mod.load_state_dict(d, strict=True)\n",
      "  File \"/Users/sireeshgururaja/miniconda3/envs/papermage/lib/python3.11/site-packages/torch/nn/modules/module.py\", line 2152, in load_state_dict\n",
      "    raise RuntimeError('Error(s) in loading state_dict for {}:\\n\\t{}'.format(\n",
      "RuntimeError: Error(s) in loading state_dict for ZBmod2Mod:\n",
      "\tUnexpected key(s) in state_dict: \"emb.word_embeddings.weight\", \"emb.position_embeddings.weight\", \"emb.token_type_embeddings.weight\", \"emb.layer_norm.weight\", \"emb.layer_norm.bias\", \"lmhead.dense.weight\", \"lmhead.dense.bias\", \"lmhead.layer_norm.weight\", \"lmhead.layer_norm.bias\", \"lmhead.decoder.weight\", \"lmhead.decoder.bias\", \"enc.T0.attention.affine_q.linear.weight\", \"enc.T0.attention.affine_q.linear.bias\", \"enc.T0.attention.affine_k.linear.weight\", \"enc.T0.attention.affine_k.linear.bias\", \"enc.T0.attention.affine_v.linear.weight\", \"enc.T0.attention.affine_v.linear.bias\", \"enc.T0.attention.final_linear.linear.weight\", \"enc.T0.attention.final_linear.linear.bias\", \"enc.T0.att_ln.weight\", \"enc.T0.att_ln.bias\", \"enc.T0.ffn_d1.weight\", \"enc.T0.ffn_d1.bias\", \"enc.T0.ffn_d2.weight\", \"enc.T0.ffn_d2.bias\", \"enc.T0.ffn_ln.weight\", \"enc.T0.ffn_ln.bias\", \"enc.T1.attention.affine_q.linear.weight\", \"enc.T1.attention.affine_q.linear.bias\", \"enc.T1.attention.affine_k.linear.weight\", \"enc.T1.attention.affine_k.linear.bias\", \"enc.T1.attention.affine_v.linear.weight\", \"enc.T1.attention.affine_v.linear.bias\", \"enc.T1.attention.final_linear.linear.weight\", \"enc.T1.attention.final_linear.linear.bias\", \"enc.T1.att_ln.weight\", \"enc.T1.att_ln.bias\", \"enc.T1.ffn_d1.weight\", \"enc.T1.ffn_d1.bias\", \"enc.T1.ffn_d2.weight\", \"enc.T1.ffn_d2.bias\", \"enc.T1.ffn_ln.weight\", \"enc.T1.ffn_ln.bias\", \"enc.T2.attention.affine_q.linear.weight\", \"enc.T2.attention.affine_q.linear.bias\", \"enc.T2.attention.affine_k.linear.weight\", \"enc.T2.attention.affine_k.linear.bias\", \"enc.T2.attention.affine_v.linear.weight\", \"enc.T2.attention.affine_v.linear.bias\", \"enc.T2.attention.final_linear.linear.weight\", \"enc.T2.attention.final_linear.linear.bias\", \"enc.T2.att_ln.weight\", \"enc.T2.att_ln.bias\", \"enc.T2.ffn_d1.weight\", \"enc.T2.ffn_d1.bias\", \"enc.T2.ffn_d2.weight\", \"enc.T2.ffn_d2.bias\", \"enc.T2.ffn_ln.weight\", \"enc.T2.ffn_ln.bias\", \"enc.T3.attention.affine_q.linear.weight\", \"enc.T3.attention.affine_q.linear.bias\", \"enc.T3.attention.affine_k.linear.weight\", \"enc.T3.attention.affine_k.linear.bias\", \"enc.T3.attention.affine_v.linear.weight\", \"enc.T3.attention.affine_v.linear.bias\", \"enc.T3.attention.final_linear.linear.weight\", \"enc.T3.attention.final_linear.linear.bias\", \"enc.T3.att_ln.weight\", \"enc.T3.att_ln.bias\", \"enc.T3.ffn_d1.weight\", \"enc.T3.ffn_d1.bias\", \"enc.T3.ffn_d2.weight\", \"enc.T3.ffn_d2.bias\", \"enc.T3.ffn_ln.weight\", \"enc.T3.ffn_ln.bias\", \"enc.T4.attention.affine_q.linear.weight\", \"enc.T4.attention.affine_q.linear.bias\", \"enc.T4.attention.affine_k.linear.weight\", \"enc.T4.attention.affine_k.linear.bias\", \"enc.T4.attention.affine_v.linear.weight\", \"enc.T4.attention.affine_v.linear.bias\", \"enc.T4.attention.final_linear.linear.weight\", \"enc.T4.attention.final_linear.linear.bias\", \"enc.T4.att_ln.weight\", \"enc.T4.att_ln.bias\", \"enc.T4.ffn_d1.weight\", \"enc.T4.ffn_d1.bias\", \"enc.T4.ffn_d2.weight\", \"enc.T4.ffn_d2.bias\", \"enc.T4.ffn_ln.weight\", \"enc.T4.ffn_ln.bias\", \"enc.T5.attention.affine_q.linear.weight\", \"enc.T5.attention.affine_q.linear.bias\", \"enc.T5.attention.affine_k.linear.weight\", \"enc.T5.attention.affine_k.linear.bias\", \"enc.T5.attention.affine_v.linear.weight\", \"enc.T5.attention.affine_v.linear.bias\", \"enc.T5.attention.final_linear.linear.weight\", \"enc.T5.attention.final_linear.linear.bias\", \"enc.T5.att_ln.weight\", \"enc.T5.att_ln.bias\", \"enc.T5.ffn_d1.weight\", \"enc.T5.ffn_d1.bias\", \"enc.T5.ffn_d2.weight\", \"enc.T5.ffn_d2.bias\", \"enc.T5.ffn_ln.weight\", \"enc.T5.ffn_ln.bias\", \"enc.T6.attention.affine_q.linear.weight\", \"enc.T6.attention.affine_q.linear.bias\", \"enc.T6.attention.affine_k.linear.weight\", \"enc.T6.attention.affine_k.linear.bias\", \"enc.T6.attention.affine_v.linear.weight\", \"enc.T6.attention.affine_v.linear.bias\", \"enc.T6.attention.final_linear.linear.weight\", \"enc.T6.attention.final_linear.linear.bias\", \"enc.T6.att_ln.weight\", \"enc.T6.att_ln.bias\", \"enc.T6.ffn_d1.weight\", \"enc.T6.ffn_d1.bias\", \"enc.T6.ffn_d2.weight\", \"enc.T6.ffn_d2.bias\", \"enc.T6.ffn_ln.weight\", \"enc.T6.ffn_ln.bias\", \"enc.T7.attention.affine_q.linear.weight\", \"enc.T7.attention.affine_q.linear.bias\", \"enc.T7.attention.affine_k.linear.weight\", \"enc.T7.attention.affine_k.linear.bias\", \"enc.T7.attention.affine_v.linear.weight\", \"enc.T7.attention.affine_v.linear.bias\", \"enc.T7.attention.final_linear.linear.weight\", \"enc.T7.attention.final_linear.linear.bias\", \"enc.T7.att_ln.weight\", \"enc.T7.att_ln.bias\", \"enc.T7.ffn_d1.weight\", \"enc.T7.ffn_d1.bias\", \"enc.T7.ffn_d2.weight\", \"enc.T7.ffn_d2.bias\", \"enc.T7.ffn_ln.weight\", \"enc.T7.ffn_ln.bias\". \n",
      "\n",
      "#==\n",
      "Load for ZBmod2Mod[28351488] from pretrained matbert-base-cased\n",
      "Adopt *_div of 17.320508075688775 for the current PairScorer!\n",
      "Init ExtraEmb with [2]\n",
      "Init ExtraEmb with []\n",
      "Compile constraints for mat with 176\n",
      "== Load Zmodel[139906548] from /Users/sireeshgururaja/src/MatIE/model/zmodel.best.m\n",
      "Init scheduled value lrate as 2e-05 (changeable=True).\n",
      "## Start timer: Test(1/1): Dataset(test0_0) at 6.407. (Sat Mar 16 16:23:13 2024)\n",
      "Write to ../ht-max/data/AM_Creep_Papers_parsed_test/Effects_of_build_direction_and_heat_treatment_on_creep_properties_of_Ni-base_superalloy_built_up_by_additive_manufacturing/output.json\n",
      "Read from ['../ht-max/data/AM_Creep_Papers_parsed_test/Effects_of_build_direction_and_heat_treatment_on_creep_properties_of_Ni-base_superalloy_built_up_by_additive_manufacturing/input.json']\n",
      "## End timer: Test(1/1): Dataset(test0_0) at 10.420, the period is 4.013 seconds. (Sat Mar 16 16:23:17 2024)\n",
      "zzzzztestfinal: {'__t': 'zres', 'test0_0': {'__t': 'zres', 'inst': 103, 'ff': 14, 'seq': 103, 'frame': 530, 'r_seq': 103, 'rf_head': 530, 'rf_tail': 530, 'r_arg0': 4028, 'r_argV': 306, 'r_argM': 5, 'r_argM1': 5}, 'zres': -10000000.0}\n",
      "zzzzz---------: ZResult(-10000000.0000): {\"__t\"=zres, \"test0_0\"=ZResult(-10000000.0000): {\"__t\"=zres, \"inst\"=103, \"ff\"=14, \"seq\"=103, \"frame\"=530, \"r_seq\"=103, \"rf_head\"=530, \"rf_tail\"=530, \"r_arg0\"=4028, \"r_argV\"=306, \"r_argM\"=5, \"r_argM1\"=5}, \"zres\"=-10000000.0}\n",
      "## End timer: Main.Test at 10.420, the period is 10.001 seconds. (Sat Mar 16 16:23:17 2024)\n",
      "## End timer: Main at 10.422, the period is 9.661 seconds. (Sat Mar 16 16:23:17 2024)\n",
      "++ python3 -m mspx.tools.al.utils_brat cmd:z2b input_path:../ht-max/data/AM_Creep_Papers_parsed_test/Effects_of_build_direction_and_heat_treatment_on_creep_properties_of_Ni-base_superalloy_built_up_by_additive_manufacturing/output.json output_path:../ht-max/data/AM_Creep_Papers_parsed_test/Effects_of_build_direction_and_heat_treatment_on_creep_properties_of_Ni-base_superalloy_built_up_by_additive_manufacturing/ delete_nils:1\n",
      "Pass init to allow continue writing!!\n",
      "Initial msp2.utils.random for Time=1\n",
      "Start!! After manually init at Sat Mar 16 16:23:18 2024\n",
      "CC *cmd: /Users/sireeshgururaja/src/MatIE/mspx/tools/al/utils_brat.py cmd:z2b input_path:../ht-max/data/AM_Creep_Papers_parsed_test/Effects_of_build_direction_and_heat_treatment_on_creep_properties_of_Ni-base_superalloy_built_up_by_additive_manufacturing/output.json output_path:../ht-max/data/AM_Creep_Papers_parsed_test/Effects_of_build_direction_and_heat_treatment_on_creep_properties_of_Ni-base_superalloy_built_up_by_additive_manufacturing/ delete_nils:1\n",
      "CC *system: #== Sysinfo: uname_result(system='Darwin', node='wellie.wifi.local.cmu.edu', release='23.3.0', version='Darwin Kernel Version 23.3.0: Wed Dec 20 21:30:44 PST 2023; root:xnu-10002.81.5~7/RELEASE_ARM64_T6000', machine='arm64')\n",
      "None\n",
      "CC Update conf from args: ['cmd:z2b', 'input_path:../ht-max/data/AM_Creep_Papers_parsed_test/Effects_of_build_direction_and_heat_treatment_on_creep_properties_of_Ni-base_superalloy_built_up_by_additive_manufacturing/output.json', 'output_path:../ht-max/data/AM_Creep_Papers_parsed_test/Effects_of_build_direction_and_heat_treatment_on_creep_properties_of_Ni-base_superalloy_built_up_by_additive_manufacturing/', 'delete_nils:1'].\n",
      "CC Update config 'cmd=z2b': cmd =  -> z2b\n",
      "CC Update config 'input_path=../ht-max/data/AM_Creep_Papers_parsed_test/Effects_of_build_direction_and_heat_treatment_on_creep_properties_of_Ni-base_superalloy_built_up_by_additive_manufacturing/output.json': input_path = [] -> ['../ht-max/data/AM_Creep_Papers_parsed_test/Effects_of_build_direction_and_heat_treatment_on_creep_properties_of_Ni-base_superalloy_built_up_by_additive_manufacturing/output.json']\n",
      "CC Update config 'output_path=../ht-max/data/AM_Creep_Papers_parsed_test/Effects_of_build_direction_and_heat_treatment_on_creep_properties_of_Ni-base_superalloy_built_up_by_additive_manufacturing/': output_path =  -> ../ht-max/data/AM_Creep_Papers_parsed_test/Effects_of_build_direction_and_heat_treatment_on_creep_properties_of_Ni-base_superalloy_built_up_by_additive_manufacturing/\n",
      "CC Update config 'delete_nils=1': delete_nils = False -> True\n",
      "Read from ['../ht-max/data/AM_Creep_Papers_parsed_test/Effects_of_build_direction_and_heat_treatment_on_creep_properties_of_Ni-base_superalloy_built_up_by_additive_manufacturing/output.json']\n",
      "[z2b]Read from ['../ht-max/data/AM_Creep_Papers_parsed_test/Effects_of_build_direction_and_heat_treatment_on_creep_properties_of_Ni-base_superalloy_built_up_by_additive_manufacturing/output.json']: {'alink': 306, 'alink_plain': 306, 'doc': 12, 'doc0': 12, 'frame': 530, 'frame_ef': 530, 'frame_pred': 530, 'sent': 103, 'sent0': 103}\n",
      "[z2b]Write to ../ht-max/data/AM_Creep_Papers_parsed_test/Effects_of_build_direction_and_heat_treatment_on_creep_properties_of_Ni-base_superalloy_built_up_by_additive_manufacturing/: {'Fef': 530, 'Ref': 301, 'inst': 12, 'sent': 103}\n",
      "++ mkdir -p $'../ht-max/data/AM_Creep_Papers_parsed_test/On_the_creep_performance_of_the_Ti�\\200\\2206Al�\\200\\2204V_alloy_processed_by_additive_manufacturing'\n",
      "++ python3 -m mspx.tools.al.utils_brat cmd:b2z $'input_path:../ht-max/data/AM_Creep_Papers_parsed_test/On_the_creep_performance_of_the_Ti�\\200\\2206Al�\\200\\2204V_alloy_processed_by_additive_manufacturing/' $'output_path:../ht-max/data/AM_Creep_Papers_parsed_test/On_the_creep_performance_of_the_Ti�\\200\\2206Al�\\200\\2204V_alloy_processed_by_additive_manufacturing/input.json' delete_nils:1 convert.toker:nltk\n",
      "Pass init to allow continue writing!!\n",
      "Initial msp2.utils.random for Time=1\n",
      "Start!! After manually init at Sat Mar 16 16:23:20 2024\n",
      "CC *cmd: /Users/sireeshgururaja/src/MatIE/mspx/tools/al/utils_brat.py cmd:b2z input_path:../ht-max/data/AM_Creep_Papers_parsed_test/On_the_creep_performance_of_the_Ti‐6Al‐4V_alloy_processed_by_additive_manufacturing/ output_path:../ht-max/data/AM_Creep_Papers_parsed_test/On_the_creep_performance_of_the_Ti‐6Al‐4V_alloy_processed_by_additive_manufacturing/input.json delete_nils:1 convert.toker:nltk\n",
      "CC *system: #== Sysinfo: uname_result(system='Darwin', node='wellie.wifi.local.cmu.edu', release='23.3.0', version='Darwin Kernel Version 23.3.0: Wed Dec 20 21:30:44 PST 2023; root:xnu-10002.81.5~7/RELEASE_ARM64_T6000', machine='arm64')\n",
      "None\n",
      "CC Update conf from args: ['cmd:b2z', 'input_path:../ht-max/data/AM_Creep_Papers_parsed_test/On_the_creep_performance_of_the_Ti‐6Al‐4V_alloy_processed_by_additive_manufacturing/', 'output_path:../ht-max/data/AM_Creep_Papers_parsed_test/On_the_creep_performance_of_the_Ti‐6Al‐4V_alloy_processed_by_additive_manufacturing/input.json', 'delete_nils:1', 'convert.toker:nltk'].\n",
      "CC Update(Loop=0) precheck_entry 'convert.toker=nltk': convert.toker = <mspx.tools.annotate.ann_nltk.AnnotatorNltkConf object at 0x11df07210> -> <mspx.tools.annotate.ann_nltk.AnnotatorNltkConf object at 0x1383eb990>\n",
      "CC Update config 'cmd=b2z': cmd =  -> b2z\n",
      "CC Update config 'input_path=../ht-max/data/AM_Creep_Papers_parsed_test/On_the_creep_performance_of_the_Ti‐6Al‐4V_alloy_processed_by_additive_manufacturing/': input_path = [] -> ['../ht-max/data/AM_Creep_Papers_parsed_test/On_the_creep_performance_of_the_Ti‐6Al‐4V_alloy_processed_by_additive_manufacturing/']\n",
      "CC Update config 'output_path=../ht-max/data/AM_Creep_Papers_parsed_test/On_the_creep_performance_of_the_Ti‐6Al‐4V_alloy_processed_by_additive_manufacturing/input.json': output_path =  -> ../ht-max/data/AM_Creep_Papers_parsed_test/On_the_creep_performance_of_the_Ti‐6Al‐4V_alloy_processed_by_additive_manufacturing/input.json\n",
      "CC Update config 'delete_nils=1': delete_nils = False -> True\n",
      "#--\n",
      "[b2z]Read from ['../ht-max/data/AM_Creep_Papers_parsed_test/On_the_creep_performance_of_the_Ti‐6Al‐4V_alloy_processed_by_additive_manufacturing/']: {'doc': 96, 'sent': 413, 'tok': 9759}\n",
      "#--\n",
      "[b2z]Process ann-docs: {'doc': 96, 'doc0': 96, 'sent': 413, 'sent0': 413}\n",
      "Write to ../ht-max/data/AM_Creep_Papers_parsed_test/On_the_creep_performance_of_the_Ti‐6Al‐4V_alloy_processed_by_additive_manufacturing/input.json\n",
      "++ python3 -m mspx.tasks.zrel.main /Users/sireeshgururaja/src/MatIE/model/_conf model_load_name:/Users/sireeshgururaja/src/MatIE/model/zmodel.best.m vocab_load_dir:/Users/sireeshgururaja/src/MatIE/vpack_mat/ log_stderr:1 fs:test d_input_dir: test1.group_files: test0.test_streaming:5 $'test0.group_files:../ht-max/data/AM_Creep_Papers_parsed_test/On_the_creep_performance_of_the_Ti�\\200\\2206Al�\\200\\2204V_alloy_processed_by_additive_manufacturing/input.json' $'test0.output_file:../ht-max/data/AM_Creep_Papers_parsed_test/On_the_creep_performance_of_the_Ti�\\200\\2206Al�\\200\\2204V_alloy_processed_by_additive_manufacturing/output.json'\n",
      "## Start timer: Main at 0.746. (Sat Mar 16 16:23:22 2024)\n",
      "Pass init to allow continue writing!!\n",
      "Initial msp2.utils.random for Time=1\n",
      "Manually Random init with seed=0.\n",
      "Start!! After manually init at Sat Mar 16 16:23:22 2024\n",
      "CC *cmd: /Users/sireeshgururaja/src/MatIE/mspx/tasks/zrel/main.py /Users/sireeshgururaja/src/MatIE/model/_conf model_load_name:/Users/sireeshgururaja/src/MatIE/model/zmodel.best.m vocab_load_dir:/Users/sireeshgururaja/src/MatIE/vpack_mat/ log_stderr:1 fs:test d_input_dir: test1.group_files: test0.test_streaming:5 test0.group_files:../ht-max/data/AM_Creep_Papers_parsed_test/On_the_creep_performance_of_the_Ti‐6Al‐4V_alloy_processed_by_additive_manufacturing/input.json test0.output_file:../ht-max/data/AM_Creep_Papers_parsed_test/On_the_creep_performance_of_the_Ti‐6Al‐4V_alloy_processed_by_additive_manufacturing/output.json\n",
      "CC *system: #== Sysinfo: uname_result(system='Darwin', node='wellie.wifi.local.cmu.edu', release='23.3.0', version='Darwin Kernel Version 23.3.0: Wed Dec 20 21:30:44 PST 2023; root:xnu-10002.81.5~7/RELEASE_ARM64_T6000', machine='arm64')\n",
      "None\n",
      "CC Update conf from args: ['/Users/sireeshgururaja/src/MatIE/model/_conf', 'model_load_name:/Users/sireeshgururaja/src/MatIE/model/zmodel.best.m', 'vocab_load_dir:/Users/sireeshgururaja/src/MatIE/vpack_mat/', 'log_stderr:1', 'fs:test', 'd_input_dir:', 'test1.group_files:', 'test0.test_streaming:5', 'test0.group_files:../ht-max/data/AM_Creep_Papers_parsed_test/On_the_creep_performance_of_the_Ti‐6Al‐4V_alloy_processed_by_additive_manufacturing/input.json', 'test0.output_file:../ht-max/data/AM_Creep_Papers_parsed_test/On_the_creep_performance_of_the_Ti‐6Al‐4V_alloy_processed_by_additive_manufacturing/output.json'].\n",
      "CC Try to read config file from /Users/sireeshgururaja/src/MatIE/model/_conf.\n",
      "Warn [L1] [Mar-16-16:23:22-2024] Overwrite with config vocab_load_dir = /Users/sireeshgururaja/src/MatIE/vpack_mat/\n",
      "Warn [L1] [Mar-16-16:23:22-2024] Overwrite with config log_stderr = 1\n",
      "Warn [L1] [Mar-16-16:23:22-2024] Overwrite with config fs = test\n",
      "Warn [L1] [Mar-16-16:23:22-2024] Overwrite with config d_input_dir = \n",
      "Warn [L1] [Mar-16-16:23:22-2024] Overwrite with config test1.group_files = \n",
      "Warn [L1] [Mar-16-16:23:22-2024] Overwrite with config test0.group_files = ../ht-max/data/AM_Creep_Papers_parsed_test/On_the_creep_performance_of_the_Ti‐6Al‐4V_alloy_processed_by_additive_manufacturing/input.json\n",
      "CC Update(Loop=0) precheck_entry 'tcs=enc0:sb,extH:ext,rel0:rel': tconf.tcs = None -> [['enc0', 'sb'], ['extH', 'ext'], ['rel0', 'rel']]\n",
      "CC Update(Loop=0) precheck_entry 'train0.preps0=sampler': dconf.train0.preps0 = None -> [['sampler', 'sampler']]\n",
      "CC Update(Loop=1) precheck_entry 'enc0.bconf=bmod2': tconf.enc0.mod.bconf = None -> <mspx.nn.layers2.bmod.bmod2.ZBmod2Conf object at 0x1333a33d0>\n",
      "Update with ff_sconf: OrderedDict([('b_vpath', 'matbert-base-cased'), ('init_with_bmodel', 'matbert-base-cased'), ('enc', 'tf'), ('dec', ''), ('b_inc_dec', False), ('tie_embs2lmhead', True), ('vocab_size', 30522), ('b_mdim', 768), ('n_layers', 12), ('head_count', 12), ('ff_act', 'gelu'), ('hid_act', 'gelu'), ('d_ff', 3072), ('dropout', 0.1), ('att_drop', 0.1), ('max_abs_posi', 512), ('type_size', 2), ('layer_norm_eps', 1e-12), ('b_init_range', 0.02)])\n",
      "CC Update(Loop=2) precheck_entry 'enc0.sconf=__matbert-base-cased': tconf.enc0.mod.bconf.sconf = None -> matbert-base-cased\n",
      "Update with ff_sconf: OrderedDict([('b_vpath', 'matbert-base-cased'), ('init_with_bmodel', 'matbert-base-cased'), ('enc', 'tf'), ('dec', ''), ('b_inc_dec', False), ('tie_embs2lmhead', True), ('vocab_size', 30522), ('b_mdim', 768), ('n_layers', 12), ('head_count', 12), ('ff_act', 'gelu'), ('hid_act', 'gelu'), ('d_ff', 3072), ('dropout', 0.1), ('att_drop', 0.1), ('max_abs_posi', 512), ('type_size', 2), ('layer_norm_eps', 1e-12), ('b_init_range', 0.02)])\n",
      "Update with ff_sconf: OrderedDict([('b_vpath', 'matbert-base-cased'), ('init_with_bmodel', 'matbert-base-cased'), ('enc', 'tf'), ('dec', ''), ('b_inc_dec', False), ('tie_embs2lmhead', True), ('vocab_size', 30522), ('b_mdim', 768), ('n_layers', 12), ('head_count', 12), ('ff_act', 'gelu'), ('hid_act', 'gelu'), ('d_ff', 3072), ('dropout', 0.1), ('att_drop', 0.1), ('max_abs_posi', 512), ('type_size', 2), ('layer_norm_eps', 1e-12), ('b_init_range', 0.02)])\n",
      "CC Update(Loop=3) precheck_entry 'extH.sconf=__matbert-base-cased': tconf.extH.mod.bconf.sconf = None -> matbert-base-cased\n",
      "CC Update(Loop=3) precheck_entry 'rel0.sconf=__matbert-base-cased': tconf.rel0.mod.bconf.sconf = None -> matbert-base-cased\n",
      "CC Update config 'enc0.remain_toks=1': tconf.enc0.mod.remain_toks = False -> True\n",
      "CC Update config 'enc0.enc.n_layers=8': tconf.enc0.mod.bconf.enc.n_layers = 12 -> 8\n",
      "CC Update config 'enc0.enc.n_layer_lidxes=0,1,2,3,4,5,6,7': tconf.enc0.mod.bconf.enc.n_layer_lidxes = [] -> ['0', '1', '2', '3', '4', '5', '6', '7']\n",
      "CC Update config 'extH.input_name=enc0:enc:E': tconf.extH.mod.input_name =  -> enc0:enc:E\n",
      "CC Update config 'extH.b_inc_emb=0': tconf.extH.mod.bconf.b_inc_emb = True -> False\n",
      "CC Update config 'extH.enc.n_layers=4': tconf.extH.mod.bconf.enc.n_layers = 12 -> 4\n",
      "CC Update config 'extH.enc.n_layer_lidxes=8,9,10,11': tconf.extH.mod.bconf.enc.n_layer_lidxes = [] -> ['8', '9', '10', '11']\n",
      "CC Update config 'rel0.cateHs=ef': tconf.rel0.cateHs = [] -> ['ef']\n",
      "CC Update config 'rel0.cateTs=ef': tconf.rel0.cateTs = [] -> ['ef']\n",
      "CC Update config 'rel0.input_name=enc0:enc:E': tconf.rel0.mod.input_name =  -> enc0:enc:E\n",
      "CC Update config 'rel0.b_inc_emb=0': tconf.rel0.mod.bconf.b_inc_emb = True -> False\n",
      "CC Update config 'rel0.enc.n_layers=4': tconf.rel0.mod.bconf.enc.n_layers = 12 -> 4\n",
      "CC Update config 'rel0.enc.n_layer_lidxes=8,9,10,11': tconf.rel0.mod.bconf.enc.n_layer_lidxes = [] -> ['8', '9', '10', '11']\n",
      "CC Update config 'train0.group_files=uq0.train.ud2.json,uq1.all.ud2.json': dconf.train0.group_files = [] -> ['uq0.train.ud2.json', 'uq1.all.ud2.json']\n",
      "CC Update config 'train0.tasks=enc0,extH,rel0': dconf.train0.tasks = [] -> ['enc0', 'extH', 'rel0']\n",
      "CC Update config 'train0.len_f=subword:__matbert-base-cased': dconf.train0.batcher.len_f = word -> subword:__matbert-base-cased\n",
      "CC Update config 'train1.group_files=am.all.ud2.json': dconf.train1.group_files = [] -> ['am.all.ud2.json']\n",
      "CC Update config 'train1.tasks=enc0,extH,rel0': dconf.train1.tasks = [] -> ['enc0', 'extH', 'rel0']\n",
      "CC Update config 'train1.len_f=subword:__matbert-base-cased': dconf.train1.batcher.len_f = word -> subword:__matbert-base-cased\n",
      "CC Update config 'dev0.group_files=uq0.dev.ud2.json': dconf.dev0.group_files = [] -> ['uq0.dev.ud2.json']\n",
      "CC Update config 'dev0.tasks=enc0,extH,rel0': dconf.dev0.tasks = [] -> ['enc0', 'extH', 'rel0']\n",
      "CC Update config 'dev0.len_f=subword:__matbert-base-cased': dconf.dev0.batcher.len_f = word -> subword:__matbert-base-cased\n",
      "CC Update config 'test0.group_files=../ht-max/data/AM_Creep_Papers_parsed_test/On_the_creep_performance_of_the_Ti‐6Al‐4V_alloy_processed_by_additive_manufacturing/input.json': dconf.test0.group_files = [] -> ['../ht-max/data/AM_Creep_Papers_parsed_test/On_the_creep_performance_of_the_Ti‐6Al‐4V_alloy_processed_by_additive_manufacturing/input.json']\n",
      "CC Update config 'test0.tasks=enc0,extH,rel0': dconf.test0.tasks = [] -> ['enc0', 'extH', 'rel0']\n",
      "CC Update config 'test0.len_f=subword:__matbert-base-cased': dconf.test0.batcher.len_f = word -> subword:__matbert-base-cased\n",
      "CC Update config 'test1.tasks=enc0,rel0': dconf.test1.tasks = [] -> ['enc0', 'rel0']\n",
      "CC Update config 'test1.len_f=subword:__matbert-base-cased': dconf.test1.batcher.len_f = word -> subword:__matbert-base-cased\n",
      "CC Update config 'lrate.ff=1-(i-1.0)/10': rconf.lrate.ff = 1. -> 1-(i-1.0)/10\n",
      "CC Update config 'record_best_start_cidx=5': rconf.record_best_start_cidx = 0 -> 5\n",
      "CC Update config 'max_uidx=10000': rconf.max_uidx = 100000 -> 10000\n",
      "CC Update config 'model_save_suffix_curr=': rconf.model_save_suffix_curr = .curr -> \n",
      "CC Update config 'model_save_suffix_best=': rconf.model_save_suffix_best = .best -> \n",
      "CC Update config 'save_bestn=1': rconf.save_bestn = 0 -> 1\n",
      "CC Update config 'model_save_suffix_bestn=.best': rconf.model_save_suffix_bestn = .bestn -> .best\n",
      "CC Update config 'device=0': G.nn.device = -1 -> 0\n",
      "CC Update config 'fs=test': fs = [] -> ['test']\n",
      "CC Update config 'vocab_load_dir=/Users/sireeshgururaja/src/MatIE/vpack_mat/': tconf.vocab_load_dir =  -> /Users/sireeshgururaja/src/MatIE/vpack_mat/\n",
      "CC Update config 'rel0.eval.match_arg_with_frame_type=0': tconf.rel0.eval.match_arg_with_frame_type = True -> False\n",
      "CC Update config 'extH.train_cons=1': tconf.extH.mod.train_cons = False -> True\n",
      "CC Update config 'extH.pred_cons=1': tconf.extH.mod.pred_cons = False -> True\n",
      "CC Update config 'mark_extra.init_scale=0.25': tconf.rel0.mod.mark_extra.init_scale = 0.5 -> 0.25\n",
      "CC Update config 'rel0.neg_strg_thr=0.99': tconf.rel0.mod.neg_strg_thr = 1.0 -> 0.99\n",
      "CC Update config 'rel0.neg_rate.val=10': tconf.rel0.mod.neg_rate.val = -1.0 -> 10.0\n",
      "CC Update config 'rel0.neg_rate.ff=0.1*i+0.1': tconf.rel0.mod.neg_rate.ff = 1. -> 0.1*i+0.1\n",
      "CC Update config 'train0.sampler.size_f=sum(len(z) for z in x.sents)': dconf.train0.sampler.size_f = 1 -> sum(len(z) for z in x.sents)\n",
      "CC Update config 'msp_seed=0': G.utils.msp_seed = 9341 -> 0\n",
      "CC Update config 'pred_dec_cons=mat': tconf.rel0.mod.pred_dec_cons =  -> mat\n",
      "CC Update config 'train0.inst_f=sentF': dconf.train0.batcher.inst_f = sent -> sentF\n",
      "CC Update config 'train1.inst_f=sentF': dconf.train1.batcher.inst_f = sent -> sentF\n",
      "CC Update config 'model_load_name=/Users/sireeshgururaja/src/MatIE/model/zmodel.best.m': rconf.model_load_name = zmodel.best.m -> /Users/sireeshgururaja/src/MatIE/model/zmodel.best.m\n",
      "CC Update config 'test0.test_streaming=5': dconf.test0.test_streaming = 0 -> 5\n",
      "CC Update config 'test0.output_file=../ht-max/data/AM_Creep_Papers_parsed_test/On_the_creep_performance_of_the_Ti‐6Al‐4V_alloy_processed_by_additive_manufacturing/output.json': dconf.test0.output_file =  -> ../ht-max/data/AM_Creep_Papers_parsed_test/On_the_creep_performance_of_the_Ti‐6Al‐4V_alloy_processed_by_additive_manufacturing/output.json\n",
      "Build TaskCenter ok: TaskCenter with: ['enc0', 'extH', 'rel0']\n",
      "Create Dataset(test0_0): => 0 instances\n",
      "Load tokenizer matbert-base-cased from None: BertTokenizerFast(name_or_path='matbert-base-cased', vocab_size=30522, model_max_length=1000000000000000019884624838656, is_fast=True, padding_side='right', truncation_side='right', special_tokens={'unk_token': '[UNK]', 'sep_token': '[SEP]', 'pad_token': '[PAD]', 'cls_token': '[CLS]', 'mask_token': '[MASK]'}, clean_up_tokenization_spaces=True)\n",
      "Build DataCenter ok: DataCenter(test0:1)\n",
      "Load vocabs ``(Vocab[voc_extH]: len=(1+17+5)=23,)'' for ZTaskExt(extH) from /Users/sireeshgururaja/src/MatIE/vpack_mat/v_extH.pkl\n",
      "Load vocabs ``(Vocab[vocR_rel0]: len=(1+13+5)=19, Vocab[vocH_rel0]: len=(1+17+5)=23, Vocab[vocT_rel0]: len=(1+17+5)=23)'' for ZTaskRel(rel0) from /Users/sireeshgururaja/src/MatIE/vpack_mat/v_rel0.pkl\n",
      "Load vocabs from /Users/sireeshgururaja/src/MatIE/vpack_mat/, success=OrderedDict([('enc0', False), ('extH', True), ('rel0', True)])\n",
      "## Start timer: Main.Test at 0.405. (Sat Mar 16 16:23:22 2024)\n",
      "Load tokenizer matbert-base-cased from None: BertTokenizerFast(name_or_path='matbert-base-cased', vocab_size=30522, model_max_length=1000000000000000019884624838656, is_fast=True, padding_side='right', truncation_side='right', special_tokens={'unk_token': '[UNK]', 'sep_token': '[SEP]', 'pad_token': '[PAD]', 'cls_token': '[CLS]', 'mask_token': '[MASK]'}, clean_up_tokenization_spaces=True)\n",
      "Creating *model of matbert-base-cased from None\n",
      "Warn [L1] [Mar-16-16:23:25-2024] #== Error in strict loading:\n",
      "Traceback (most recent call last):\n",
      "  File \"/Users/sireeshgururaja/src/MatIE/mspx/nn/backends/bktr.py\", line 388, in load_mod\n",
      "    mod.load_state_dict(d, strict=True)\n",
      "  File \"/Users/sireeshgururaja/miniconda3/envs/papermage/lib/python3.11/site-packages/torch/nn/modules/module.py\", line 2152, in load_state_dict\n",
      "    raise RuntimeError('Error(s) in loading state_dict for {}:\\n\\t{}'.format(\n",
      "RuntimeError: Error(s) in loading state_dict for ZBmod2Mod:\n",
      "\tUnexpected key(s) in state_dict: \"lmhead.dense.weight\", \"lmhead.dense.bias\", \"lmhead.layer_norm.weight\", \"lmhead.layer_norm.bias\", \"lmhead.decoder.weight\", \"lmhead.decoder.bias\", \"enc.T8.attention.affine_q.linear.weight\", \"enc.T8.attention.affine_q.linear.bias\", \"enc.T8.attention.affine_k.linear.weight\", \"enc.T8.attention.affine_k.linear.bias\", \"enc.T8.attention.affine_v.linear.weight\", \"enc.T8.attention.affine_v.linear.bias\", \"enc.T8.attention.final_linear.linear.weight\", \"enc.T8.attention.final_linear.linear.bias\", \"enc.T8.att_ln.weight\", \"enc.T8.att_ln.bias\", \"enc.T8.ffn_d1.weight\", \"enc.T8.ffn_d1.bias\", \"enc.T8.ffn_d2.weight\", \"enc.T8.ffn_d2.bias\", \"enc.T8.ffn_ln.weight\", \"enc.T8.ffn_ln.bias\", \"enc.T9.attention.affine_q.linear.weight\", \"enc.T9.attention.affine_q.linear.bias\", \"enc.T9.attention.affine_k.linear.weight\", \"enc.T9.attention.affine_k.linear.bias\", \"enc.T9.attention.affine_v.linear.weight\", \"enc.T9.attention.affine_v.linear.bias\", \"enc.T9.attention.final_linear.linear.weight\", \"enc.T9.attention.final_linear.linear.bias\", \"enc.T9.att_ln.weight\", \"enc.T9.att_ln.bias\", \"enc.T9.ffn_d1.weight\", \"enc.T9.ffn_d1.bias\", \"enc.T9.ffn_d2.weight\", \"enc.T9.ffn_d2.bias\", \"enc.T9.ffn_ln.weight\", \"enc.T9.ffn_ln.bias\", \"enc.T10.attention.affine_q.linear.weight\", \"enc.T10.attention.affine_q.linear.bias\", \"enc.T10.attention.affine_k.linear.weight\", \"enc.T10.attention.affine_k.linear.bias\", \"enc.T10.attention.affine_v.linear.weight\", \"enc.T10.attention.affine_v.linear.bias\", \"enc.T10.attention.final_linear.linear.weight\", \"enc.T10.attention.final_linear.linear.bias\", \"enc.T10.att_ln.weight\", \"enc.T10.att_ln.bias\", \"enc.T10.ffn_d1.weight\", \"enc.T10.ffn_d1.bias\", \"enc.T10.ffn_d2.weight\", \"enc.T10.ffn_d2.bias\", \"enc.T10.ffn_ln.weight\", \"enc.T10.ffn_ln.bias\", \"enc.T11.attention.affine_q.linear.weight\", \"enc.T11.attention.affine_q.linear.bias\", \"enc.T11.attention.affine_k.linear.weight\", \"enc.T11.attention.affine_k.linear.bias\", \"enc.T11.attention.affine_v.linear.weight\", \"enc.T11.attention.affine_v.linear.bias\", \"enc.T11.attention.final_linear.linear.weight\", \"enc.T11.attention.final_linear.linear.bias\", \"enc.T11.att_ln.weight\", \"enc.T11.att_ln.bias\", \"enc.T11.ffn_d1.weight\", \"enc.T11.ffn_d1.bias\", \"enc.T11.ffn_d2.weight\", \"enc.T11.ffn_d2.bias\", \"enc.T11.ffn_ln.weight\", \"enc.T11.ffn_ln.bias\". \n",
      "\n",
      "#==\n",
      "Load for ZBmod2Mod[80540160] from pretrained matbert-base-cased\n",
      "Init scheduled value strg_ratio as 0.0 (changeable=False).\n",
      "Load tokenizer matbert-base-cased from None: BertTokenizerFast(name_or_path='matbert-base-cased', vocab_size=30522, model_max_length=1000000000000000019884624838656, is_fast=True, padding_side='right', truncation_side='right', special_tokens={'unk_token': '[UNK]', 'sep_token': '[SEP]', 'pad_token': '[PAD]', 'cls_token': '[CLS]', 'mask_token': '[MASK]'}, clean_up_tokenization_spaces=True)\n",
      "Creating *model of matbert-base-cased from None\n",
      "Warn [L1] [Mar-16-16:23:26-2024] #== Error in strict loading:\n",
      "Traceback (most recent call last):\n",
      "  File \"/Users/sireeshgururaja/src/MatIE/mspx/nn/backends/bktr.py\", line 388, in load_mod\n",
      "    mod.load_state_dict(d, strict=True)\n",
      "  File \"/Users/sireeshgururaja/miniconda3/envs/papermage/lib/python3.11/site-packages/torch/nn/modules/module.py\", line 2152, in load_state_dict\n",
      "    raise RuntimeError('Error(s) in loading state_dict for {}:\\n\\t{}'.format(\n",
      "RuntimeError: Error(s) in loading state_dict for ZBmod2Mod:\n",
      "\tUnexpected key(s) in state_dict: \"emb.word_embeddings.weight\", \"emb.position_embeddings.weight\", \"emb.token_type_embeddings.weight\", \"emb.layer_norm.weight\", \"emb.layer_norm.bias\", \"lmhead.dense.weight\", \"lmhead.dense.bias\", \"lmhead.layer_norm.weight\", \"lmhead.layer_norm.bias\", \"lmhead.decoder.weight\", \"lmhead.decoder.bias\", \"enc.T0.attention.affine_q.linear.weight\", \"enc.T0.attention.affine_q.linear.bias\", \"enc.T0.attention.affine_k.linear.weight\", \"enc.T0.attention.affine_k.linear.bias\", \"enc.T0.attention.affine_v.linear.weight\", \"enc.T0.attention.affine_v.linear.bias\", \"enc.T0.attention.final_linear.linear.weight\", \"enc.T0.attention.final_linear.linear.bias\", \"enc.T0.att_ln.weight\", \"enc.T0.att_ln.bias\", \"enc.T0.ffn_d1.weight\", \"enc.T0.ffn_d1.bias\", \"enc.T0.ffn_d2.weight\", \"enc.T0.ffn_d2.bias\", \"enc.T0.ffn_ln.weight\", \"enc.T0.ffn_ln.bias\", \"enc.T1.attention.affine_q.linear.weight\", \"enc.T1.attention.affine_q.linear.bias\", \"enc.T1.attention.affine_k.linear.weight\", \"enc.T1.attention.affine_k.linear.bias\", \"enc.T1.attention.affine_v.linear.weight\", \"enc.T1.attention.affine_v.linear.bias\", \"enc.T1.attention.final_linear.linear.weight\", \"enc.T1.attention.final_linear.linear.bias\", \"enc.T1.att_ln.weight\", \"enc.T1.att_ln.bias\", \"enc.T1.ffn_d1.weight\", \"enc.T1.ffn_d1.bias\", \"enc.T1.ffn_d2.weight\", \"enc.T1.ffn_d2.bias\", \"enc.T1.ffn_ln.weight\", \"enc.T1.ffn_ln.bias\", \"enc.T2.attention.affine_q.linear.weight\", \"enc.T2.attention.affine_q.linear.bias\", \"enc.T2.attention.affine_k.linear.weight\", \"enc.T2.attention.affine_k.linear.bias\", \"enc.T2.attention.affine_v.linear.weight\", \"enc.T2.attention.affine_v.linear.bias\", \"enc.T2.attention.final_linear.linear.weight\", \"enc.T2.attention.final_linear.linear.bias\", \"enc.T2.att_ln.weight\", \"enc.T2.att_ln.bias\", \"enc.T2.ffn_d1.weight\", \"enc.T2.ffn_d1.bias\", \"enc.T2.ffn_d2.weight\", \"enc.T2.ffn_d2.bias\", \"enc.T2.ffn_ln.weight\", \"enc.T2.ffn_ln.bias\", \"enc.T3.attention.affine_q.linear.weight\", \"enc.T3.attention.affine_q.linear.bias\", \"enc.T3.attention.affine_k.linear.weight\", \"enc.T3.attention.affine_k.linear.bias\", \"enc.T3.attention.affine_v.linear.weight\", \"enc.T3.attention.affine_v.linear.bias\", \"enc.T3.attention.final_linear.linear.weight\", \"enc.T3.attention.final_linear.linear.bias\", \"enc.T3.att_ln.weight\", \"enc.T3.att_ln.bias\", \"enc.T3.ffn_d1.weight\", \"enc.T3.ffn_d1.bias\", \"enc.T3.ffn_d2.weight\", \"enc.T3.ffn_d2.bias\", \"enc.T3.ffn_ln.weight\", \"enc.T3.ffn_ln.bias\", \"enc.T4.attention.affine_q.linear.weight\", \"enc.T4.attention.affine_q.linear.bias\", \"enc.T4.attention.affine_k.linear.weight\", \"enc.T4.attention.affine_k.linear.bias\", \"enc.T4.attention.affine_v.linear.weight\", \"enc.T4.attention.affine_v.linear.bias\", \"enc.T4.attention.final_linear.linear.weight\", \"enc.T4.attention.final_linear.linear.bias\", \"enc.T4.att_ln.weight\", \"enc.T4.att_ln.bias\", \"enc.T4.ffn_d1.weight\", \"enc.T4.ffn_d1.bias\", \"enc.T4.ffn_d2.weight\", \"enc.T4.ffn_d2.bias\", \"enc.T4.ffn_ln.weight\", \"enc.T4.ffn_ln.bias\", \"enc.T5.attention.affine_q.linear.weight\", \"enc.T5.attention.affine_q.linear.bias\", \"enc.T5.attention.affine_k.linear.weight\", \"enc.T5.attention.affine_k.linear.bias\", \"enc.T5.attention.affine_v.linear.weight\", \"enc.T5.attention.affine_v.linear.bias\", \"enc.T5.attention.final_linear.linear.weight\", \"enc.T5.attention.final_linear.linear.bias\", \"enc.T5.att_ln.weight\", \"enc.T5.att_ln.bias\", \"enc.T5.ffn_d1.weight\", \"enc.T5.ffn_d1.bias\", \"enc.T5.ffn_d2.weight\", \"enc.T5.ffn_d2.bias\", \"enc.T5.ffn_ln.weight\", \"enc.T5.ffn_ln.bias\", \"enc.T6.attention.affine_q.linear.weight\", \"enc.T6.attention.affine_q.linear.bias\", \"enc.T6.attention.affine_k.linear.weight\", \"enc.T6.attention.affine_k.linear.bias\", \"enc.T6.attention.affine_v.linear.weight\", \"enc.T6.attention.affine_v.linear.bias\", \"enc.T6.attention.final_linear.linear.weight\", \"enc.T6.attention.final_linear.linear.bias\", \"enc.T6.att_ln.weight\", \"enc.T6.att_ln.bias\", \"enc.T6.ffn_d1.weight\", \"enc.T6.ffn_d1.bias\", \"enc.T6.ffn_d2.weight\", \"enc.T6.ffn_d2.bias\", \"enc.T6.ffn_ln.weight\", \"enc.T6.ffn_ln.bias\", \"enc.T7.attention.affine_q.linear.weight\", \"enc.T7.attention.affine_q.linear.bias\", \"enc.T7.attention.affine_k.linear.weight\", \"enc.T7.attention.affine_k.linear.bias\", \"enc.T7.attention.affine_v.linear.weight\", \"enc.T7.attention.affine_v.linear.bias\", \"enc.T7.attention.final_linear.linear.weight\", \"enc.T7.attention.final_linear.linear.bias\", \"enc.T7.att_ln.weight\", \"enc.T7.att_ln.bias\", \"enc.T7.ffn_d1.weight\", \"enc.T7.ffn_d1.bias\", \"enc.T7.ffn_d2.weight\", \"enc.T7.ffn_d2.bias\", \"enc.T7.ffn_ln.weight\", \"enc.T7.ffn_ln.bias\". \n",
      "\n",
      "#==\n",
      "Load for ZBmod2Mod[28351488] from pretrained matbert-base-cased\n",
      "Init scheduled value strg_ratio as 0.0 (changeable=False).\n",
      "Init scheduled value neg_rate as 1.0 (changeable=True).\n",
      "Load tokenizer matbert-base-cased from None: BertTokenizerFast(name_or_path='matbert-base-cased', vocab_size=30522, model_max_length=1000000000000000019884624838656, is_fast=True, padding_side='right', truncation_side='right', special_tokens={'unk_token': '[UNK]', 'sep_token': '[SEP]', 'pad_token': '[PAD]', 'cls_token': '[CLS]', 'mask_token': '[MASK]'}, clean_up_tokenization_spaces=True)\n",
      "Creating *model of matbert-base-cased from None\n",
      "Warn [L1] [Mar-16-16:23:28-2024] #== Error in strict loading:\n",
      "Traceback (most recent call last):\n",
      "  File \"/Users/sireeshgururaja/src/MatIE/mspx/nn/backends/bktr.py\", line 388, in load_mod\n",
      "    mod.load_state_dict(d, strict=True)\n",
      "  File \"/Users/sireeshgururaja/miniconda3/envs/papermage/lib/python3.11/site-packages/torch/nn/modules/module.py\", line 2152, in load_state_dict\n",
      "    raise RuntimeError('Error(s) in loading state_dict for {}:\\n\\t{}'.format(\n",
      "RuntimeError: Error(s) in loading state_dict for ZBmod2Mod:\n",
      "\tUnexpected key(s) in state_dict: \"emb.word_embeddings.weight\", \"emb.position_embeddings.weight\", \"emb.token_type_embeddings.weight\", \"emb.layer_norm.weight\", \"emb.layer_norm.bias\", \"lmhead.dense.weight\", \"lmhead.dense.bias\", \"lmhead.layer_norm.weight\", \"lmhead.layer_norm.bias\", \"lmhead.decoder.weight\", \"lmhead.decoder.bias\", \"enc.T0.attention.affine_q.linear.weight\", \"enc.T0.attention.affine_q.linear.bias\", \"enc.T0.attention.affine_k.linear.weight\", \"enc.T0.attention.affine_k.linear.bias\", \"enc.T0.attention.affine_v.linear.weight\", \"enc.T0.attention.affine_v.linear.bias\", \"enc.T0.attention.final_linear.linear.weight\", \"enc.T0.attention.final_linear.linear.bias\", \"enc.T0.att_ln.weight\", \"enc.T0.att_ln.bias\", \"enc.T0.ffn_d1.weight\", \"enc.T0.ffn_d1.bias\", \"enc.T0.ffn_d2.weight\", \"enc.T0.ffn_d2.bias\", \"enc.T0.ffn_ln.weight\", \"enc.T0.ffn_ln.bias\", \"enc.T1.attention.affine_q.linear.weight\", \"enc.T1.attention.affine_q.linear.bias\", \"enc.T1.attention.affine_k.linear.weight\", \"enc.T1.attention.affine_k.linear.bias\", \"enc.T1.attention.affine_v.linear.weight\", \"enc.T1.attention.affine_v.linear.bias\", \"enc.T1.attention.final_linear.linear.weight\", \"enc.T1.attention.final_linear.linear.bias\", \"enc.T1.att_ln.weight\", \"enc.T1.att_ln.bias\", \"enc.T1.ffn_d1.weight\", \"enc.T1.ffn_d1.bias\", \"enc.T1.ffn_d2.weight\", \"enc.T1.ffn_d2.bias\", \"enc.T1.ffn_ln.weight\", \"enc.T1.ffn_ln.bias\", \"enc.T2.attention.affine_q.linear.weight\", \"enc.T2.attention.affine_q.linear.bias\", \"enc.T2.attention.affine_k.linear.weight\", \"enc.T2.attention.affine_k.linear.bias\", \"enc.T2.attention.affine_v.linear.weight\", \"enc.T2.attention.affine_v.linear.bias\", \"enc.T2.attention.final_linear.linear.weight\", \"enc.T2.attention.final_linear.linear.bias\", \"enc.T2.att_ln.weight\", \"enc.T2.att_ln.bias\", \"enc.T2.ffn_d1.weight\", \"enc.T2.ffn_d1.bias\", \"enc.T2.ffn_d2.weight\", \"enc.T2.ffn_d2.bias\", \"enc.T2.ffn_ln.weight\", \"enc.T2.ffn_ln.bias\", \"enc.T3.attention.affine_q.linear.weight\", \"enc.T3.attention.affine_q.linear.bias\", \"enc.T3.attention.affine_k.linear.weight\", \"enc.T3.attention.affine_k.linear.bias\", \"enc.T3.attention.affine_v.linear.weight\", \"enc.T3.attention.affine_v.linear.bias\", \"enc.T3.attention.final_linear.linear.weight\", \"enc.T3.attention.final_linear.linear.bias\", \"enc.T3.att_ln.weight\", \"enc.T3.att_ln.bias\", \"enc.T3.ffn_d1.weight\", \"enc.T3.ffn_d1.bias\", \"enc.T3.ffn_d2.weight\", \"enc.T3.ffn_d2.bias\", \"enc.T3.ffn_ln.weight\", \"enc.T3.ffn_ln.bias\", \"enc.T4.attention.affine_q.linear.weight\", \"enc.T4.attention.affine_q.linear.bias\", \"enc.T4.attention.affine_k.linear.weight\", \"enc.T4.attention.affine_k.linear.bias\", \"enc.T4.attention.affine_v.linear.weight\", \"enc.T4.attention.affine_v.linear.bias\", \"enc.T4.attention.final_linear.linear.weight\", \"enc.T4.attention.final_linear.linear.bias\", \"enc.T4.att_ln.weight\", \"enc.T4.att_ln.bias\", \"enc.T4.ffn_d1.weight\", \"enc.T4.ffn_d1.bias\", \"enc.T4.ffn_d2.weight\", \"enc.T4.ffn_d2.bias\", \"enc.T4.ffn_ln.weight\", \"enc.T4.ffn_ln.bias\", \"enc.T5.attention.affine_q.linear.weight\", \"enc.T5.attention.affine_q.linear.bias\", \"enc.T5.attention.affine_k.linear.weight\", \"enc.T5.attention.affine_k.linear.bias\", \"enc.T5.attention.affine_v.linear.weight\", \"enc.T5.attention.affine_v.linear.bias\", \"enc.T5.attention.final_linear.linear.weight\", \"enc.T5.attention.final_linear.linear.bias\", \"enc.T5.att_ln.weight\", \"enc.T5.att_ln.bias\", \"enc.T5.ffn_d1.weight\", \"enc.T5.ffn_d1.bias\", \"enc.T5.ffn_d2.weight\", \"enc.T5.ffn_d2.bias\", \"enc.T5.ffn_ln.weight\", \"enc.T5.ffn_ln.bias\", \"enc.T6.attention.affine_q.linear.weight\", \"enc.T6.attention.affine_q.linear.bias\", \"enc.T6.attention.affine_k.linear.weight\", \"enc.T6.attention.affine_k.linear.bias\", \"enc.T6.attention.affine_v.linear.weight\", \"enc.T6.attention.affine_v.linear.bias\", \"enc.T6.attention.final_linear.linear.weight\", \"enc.T6.attention.final_linear.linear.bias\", \"enc.T6.att_ln.weight\", \"enc.T6.att_ln.bias\", \"enc.T6.ffn_d1.weight\", \"enc.T6.ffn_d1.bias\", \"enc.T6.ffn_d2.weight\", \"enc.T6.ffn_d2.bias\", \"enc.T6.ffn_ln.weight\", \"enc.T6.ffn_ln.bias\", \"enc.T7.attention.affine_q.linear.weight\", \"enc.T7.attention.affine_q.linear.bias\", \"enc.T7.attention.affine_k.linear.weight\", \"enc.T7.attention.affine_k.linear.bias\", \"enc.T7.attention.affine_v.linear.weight\", \"enc.T7.attention.affine_v.linear.bias\", \"enc.T7.attention.final_linear.linear.weight\", \"enc.T7.attention.final_linear.linear.bias\", \"enc.T7.att_ln.weight\", \"enc.T7.att_ln.bias\", \"enc.T7.ffn_d1.weight\", \"enc.T7.ffn_d1.bias\", \"enc.T7.ffn_d2.weight\", \"enc.T7.ffn_d2.bias\", \"enc.T7.ffn_ln.weight\", \"enc.T7.ffn_ln.bias\". \n",
      "\n",
      "#==\n",
      "Load for ZBmod2Mod[28351488] from pretrained matbert-base-cased\n",
      "Adopt *_div of 17.320508075688775 for the current PairScorer!\n",
      "Init ExtraEmb with [2]\n",
      "Init ExtraEmb with []\n",
      "Compile constraints for mat with 176\n",
      "== Load Zmodel[139906548] from /Users/sireeshgururaja/src/MatIE/model/zmodel.best.m\n",
      "Init scheduled value lrate as 2e-05 (changeable=True).\n",
      "## Start timer: Test(1/1): Dataset(test0_0) at 6.178. (Sat Mar 16 16:23:28 2024)\n",
      "Write to ../ht-max/data/AM_Creep_Papers_parsed_test/On_the_creep_performance_of_the_Ti‐6Al‐4V_alloy_processed_by_additive_manufacturing/output.json\n",
      "Read from ['../ht-max/data/AM_Creep_Papers_parsed_test/On_the_creep_performance_of_the_Ti‐6Al‐4V_alloy_processed_by_additive_manufacturing/input.json']\n",
      "## End timer: Test(1/1): Dataset(test0_0) at 24.115, the period is 17.937 seconds. (Sat Mar 16 16:23:46 2024)\n",
      "zzzzztestfinal: {'__t': 'zres', 'test0_0': {'__t': 'zres', 'inst': 413, 'ff': 77, 'seq': 413, 'frame': 2174, 'r_seq': 413, 'rf_head': 2174, 'rf_tail': 2174, 'r_arg0': 19594, 'r_argV': 1164, 'r_argM': 9, 'r_argM1': 9}, 'zres': -10000000.0}\n",
      "zzzzz---------: ZResult(-10000000.0000): {\"__t\"=zres, \"test0_0\"=ZResult(-10000000.0000): {\"__t\"=zres, \"inst\"=413, \"ff\"=77, \"seq\"=413, \"frame\"=2174, \"r_seq\"=413, \"rf_head\"=2174, \"rf_tail\"=2174, \"r_arg0\"=19594, \"r_argV\"=1164, \"r_argM\"=9, \"r_argM1\"=9}, \"zres\"=-10000000.0}\n",
      "## End timer: Main.Test at 24.115, the period is 23.710 seconds. (Sat Mar 16 16:23:46 2024)\n",
      "## End timer: Main at 24.117, the period is 23.371 seconds. (Sat Mar 16 16:23:46 2024)\n",
      "++ python3 -m mspx.tools.al.utils_brat cmd:z2b $'input_path:../ht-max/data/AM_Creep_Papers_parsed_test/On_the_creep_performance_of_the_Ti�\\200\\2206Al�\\200\\2204V_alloy_processed_by_additive_manufacturing/output.json' $'output_path:../ht-max/data/AM_Creep_Papers_parsed_test/On_the_creep_performance_of_the_Ti�\\200\\2206Al�\\200\\2204V_alloy_processed_by_additive_manufacturing/' delete_nils:1\n",
      "Pass init to allow continue writing!!\n",
      "Initial msp2.utils.random for Time=1\n",
      "Start!! After manually init at Sat Mar 16 16:23:48 2024\n",
      "CC *cmd: /Users/sireeshgururaja/src/MatIE/mspx/tools/al/utils_brat.py cmd:z2b input_path:../ht-max/data/AM_Creep_Papers_parsed_test/On_the_creep_performance_of_the_Ti‐6Al‐4V_alloy_processed_by_additive_manufacturing/output.json output_path:../ht-max/data/AM_Creep_Papers_parsed_test/On_the_creep_performance_of_the_Ti‐6Al‐4V_alloy_processed_by_additive_manufacturing/ delete_nils:1\n",
      "CC *system: #== Sysinfo: uname_result(system='Darwin', node='wellie.wifi.local.cmu.edu', release='23.3.0', version='Darwin Kernel Version 23.3.0: Wed Dec 20 21:30:44 PST 2023; root:xnu-10002.81.5~7/RELEASE_ARM64_T6000', machine='arm64')\n",
      "None\n",
      "CC Update conf from args: ['cmd:z2b', 'input_path:../ht-max/data/AM_Creep_Papers_parsed_test/On_the_creep_performance_of_the_Ti‐6Al‐4V_alloy_processed_by_additive_manufacturing/output.json', 'output_path:../ht-max/data/AM_Creep_Papers_parsed_test/On_the_creep_performance_of_the_Ti‐6Al‐4V_alloy_processed_by_additive_manufacturing/', 'delete_nils:1'].\n",
      "CC Update config 'cmd=z2b': cmd =  -> z2b\n",
      "CC Update config 'input_path=../ht-max/data/AM_Creep_Papers_parsed_test/On_the_creep_performance_of_the_Ti‐6Al‐4V_alloy_processed_by_additive_manufacturing/output.json': input_path = [] -> ['../ht-max/data/AM_Creep_Papers_parsed_test/On_the_creep_performance_of_the_Ti‐6Al‐4V_alloy_processed_by_additive_manufacturing/output.json']\n",
      "CC Update config 'output_path=../ht-max/data/AM_Creep_Papers_parsed_test/On_the_creep_performance_of_the_Ti‐6Al‐4V_alloy_processed_by_additive_manufacturing/': output_path =  -> ../ht-max/data/AM_Creep_Papers_parsed_test/On_the_creep_performance_of_the_Ti‐6Al‐4V_alloy_processed_by_additive_manufacturing/\n",
      "CC Update config 'delete_nils=1': delete_nils = False -> True\n",
      "Read from ['../ht-max/data/AM_Creep_Papers_parsed_test/On_the_creep_performance_of_the_Ti‐6Al‐4V_alloy_processed_by_additive_manufacturing/output.json']\n",
      "[z2b]Read from ['../ht-max/data/AM_Creep_Papers_parsed_test/On_the_creep_performance_of_the_Ti‐6Al‐4V_alloy_processed_by_additive_manufacturing/output.json']: {'alink': 1164, 'alink_plain': 1164, 'doc': 96, 'doc0': 96, 'frame': 2174, 'frame_ef': 2174, 'frame_pred': 2174, 'sent': 413, 'sent0': 413}\n",
      "[z2b]Write to ../ht-max/data/AM_Creep_Papers_parsed_test/On_the_creep_performance_of_the_Ti‐6Al‐4V_alloy_processed_by_additive_manufacturing/: {'Fef': 2174, 'Ref': 1155, 'inst': 96, 'sent': 413}\n"
     ]
    },
    {
     "name": "stdout",
     "output_type": "stream",
     "text": [
      "Reconciling input and annotated files...\n"
     ]
    }
   ],
   "source": [
    "pdf_filename = \"data/AM_Creep_Papers/On the creep performance of the Ti‐6Al‐4V alloy processed by additive manufacturing.pdf\"\n",
    "\n",
    "\n",
    "parsed_paper = recipe.from_pdf(pdf_filename)"
   ],
   "metadata": {
    "collapsed": false,
    "ExecuteTime": {
     "end_time": "2024-03-16T20:23:50.344055Z",
     "start_time": "2024-03-16T20:22:48.547574Z"
    }
   },
   "execution_count": 5
  },
  {
   "cell_type": "code",
   "outputs": [],
   "source": [
    "with open(pdf_filename.replace(\"AM_Creep_Papers\", \"AM_Creep_Papers_parsed\").replace(\".pdf\", \".json\"), \"w\") as f:\n",
    "  json.dump(parsed_paper.to_json(), f, indent=4)"
   ],
   "metadata": {
    "collapsed": false,
    "ExecuteTime": {
     "end_time": "2024-03-16T20:24:13.035763Z",
     "start_time": "2024-03-16T20:24:10.164888Z"
    }
   },
   "execution_count": 7
  },
  {
   "cell_type": "code",
   "outputs": [
    {
     "data": {
      "text/plain": "['Participating_Material',\n 'Phase',\n 'Property',\n 'Result',\n 'Microstructure',\n 'Phenomenon',\n 'Synthesis',\n 'Material',\n 'Environment',\n 'Descriptor',\n 'Number',\n 'Amount_Unit',\n 'MStructure',\n 'Operation',\n 'Characterization',\n 'Application']"
     },
     "execution_count": 16,
     "metadata": {},
     "output_type": "execute_result"
    }
   ],
   "source": [
    "MAT_IE_TYPES"
   ],
   "metadata": {
    "collapsed": false,
    "ExecuteTime": {
     "end_time": "2024-03-16T20:26:18.564027Z",
     "start_time": "2024-03-16T20:26:18.535671Z"
    }
   },
   "execution_count": 16
  },
  {
   "cell_type": "code",
   "outputs": [
    {
     "data": {
      "text/plain": "{'T1': Annotated Entity:\tID: 0\tSpans: True\tBoxes: False\tText: Alloying\n elements,\n 'T14': Annotated Entity:\tID: 1\tSpans: True\tBoxes: False\tText: Aluminium,\n 'T17': Annotated Entity:\tID: 2\tSpans: True\tBoxes: False\tText: vanadium,\n 'T29': Annotated Entity:\tID: 3\tSpans: True\tBoxes: False\tText: Titanium,\n 'T2': Annotated Entity:\tID: 0\tSpans: True\tBoxes: False\tText: β -Ti,\n 'T8': Annotated Entity:\tID: 1\tSpans: True\tBoxes: False\tText: α - β,\n 'T15': Annotated Entity:\tID: 2\tSpans: True\tBoxes: False\tText: α -Ti,\n 'T18': Annotated Entity:\tID: 3\tSpans: True\tBoxes: False\tText: β -Ti,\n 'T32': Annotated Entity:\tID: 4\tSpans: True\tBoxes: False\tText: hexagonal close-packed,\n 'T33': Annotated Entity:\tID: 5\tSpans: True\tBoxes: False\tText: hcp,\n 'T38': Annotated Entity:\tID: 6\tSpans: True\tBoxes: False\tText: β -Ti,\n 'T39': Annotated Entity:\tID: 7\tSpans: True\tBoxes: False\tText: body-centred cubic,\n 'T40': Annotated Entity:\tID: 8\tSpans: True\tBoxes: False\tText: bcc,\n 'T44': Annotated Entity:\tID: 1\tSpans: True\tBoxes: False\tText: β -transus temperature,\n 'T3': Annotated Entity:\tID: 0\tSpans: True\tBoxes: False\tText: transus temperature,\n 'T4': Annotated Entity:\tID: 0\tSpans: True\tBoxes: False\tText: impact,\n 'T11': Annotated Entity:\tID: 1\tSpans: True\tBoxes: False\tText: strongly depends,\n 'T16': Annotated Entity:\tID: 2\tSpans: True\tBoxes: False\tText: stabiliser,\n 'T35': Annotated Entity:\tID: 3\tSpans: True\tBoxes: False\tText: stable\n below,\n 'T41': Annotated Entity:\tID: 4\tSpans: True\tBoxes: False\tText: stable above,\n 'T5': Annotated Entity:\tID: 0\tSpans: True\tBoxes: False\tText: microstructure,\n 'T20': Annotated Entity:\tID: 1\tSpans: True\tBoxes: False\tText: equiaxed,\n 'T21': Annotated Entity:\tID: 2\tSpans: True\tBoxes: False\tText: Widmanst ¨ atten,\n 'T23': Annotated Entity:\tID: 3\tSpans: True\tBoxes: False\tText: microstructures,\n 'T34': Annotated Entity:\tID: 4\tSpans: True\tBoxes: False\tText: crystalline arrangement,\n 'T6': Annotated Entity:\tID: 0\tSpans: True\tBoxes: False\tText: evolution,\n 'T9': Annotated Entity:\tID: 1\tSpans: True\tBoxes: False\tText: phase transformation,\n 'T7': Annotated Entity:\tID: 0\tSpans: True\tBoxes: False\tText: manufacturing processes,\n 'T24': Annotated Entity:\tID: 1\tSpans: True\tBoxes: False\tText: thermomechanical processing,\n 'T25': Annotated Entity:\tID: 2\tSpans: True\tBoxes: False\tText: heat\n treatments,\n 'T28': Annotated Entity:\tID: 3\tSpans: True\tBoxes: False\tText: additive manufacturing,\n 'T26': Annotated Entity:\tID: 1\tSpans: True\tBoxes: False\tText: Ti-6Al-4V,\n 'T10': Annotated Entity:\tID: 0\tSpans: True\tBoxes: False\tText: Ti-6Al-4V,\n 'T12': Annotated Entity:\tID: 0\tSpans: True\tBoxes: False\tText: temperature\n history,\n 'T13': Annotated Entity:\tID: 1\tSpans: True\tBoxes: False\tText: cooling rates,\n 'T19': Annotated Entity:\tID: 0\tSpans: True\tBoxes: False\tText: phase stabiliser,\n 'T22': Annotated Entity:\tID: 1\tSpans: True\tBoxes: False\tText: duplex,\n 'T27': Annotated Entity:\tID: 2\tSpans: True\tBoxes: False\tText: titanium alloy,\n 'T30': Annotated Entity:\tID: 3\tSpans: True\tBoxes: False\tText: allotropic,\n 'T31': Annotated Entity:\tID: 4\tSpans: True\tBoxes: False\tText: α -Ti,\n 'T36': Annotated Entity:\tID: 0\tSpans: True\tBoxes: False\tText: 995,\n 'T42': Annotated Entity:\tID: 1\tSpans: True\tBoxes: False\tText: 995,\n 'T37': Annotated Entity:\tID: 0\tSpans: True\tBoxes: False\tText: ◦ C,\n 'T43': Annotated Entity:\tID: 1\tSpans: True\tBoxes: False\tText: ◦ C}"
     },
     "execution_count": 32,
     "metadata": {},
     "output_type": "execute_result"
    }
   ],
   "source": [
    "section = parsed_paper.reading_order_sections[1]\n",
    "entities_by_id = {}\n",
    "for e_type in MAT_IE_TYPES:\n",
    "  entities = getattr(section, e_type)\n",
    "  entities_by_id.update({e.metadata[\"entity_id\"]: e for e in entities})\n",
    "  \n",
    "entities_by_id"
   ],
   "metadata": {
    "collapsed": false,
    "ExecuteTime": {
     "end_time": "2024-03-16T20:39:40.658606Z",
     "start_time": "2024-03-16T20:39:40.630152Z"
    }
   },
   "execution_count": 32
  },
  {
   "cell_type": "code",
   "outputs": [
    {
     "data": {
      "text/plain": "[{'relation_type': 'Property_Of', 'arg1': 'T3', 'arg2': 'T2'},\n {'relation_type': 'Condition_Of', 'arg1': 'T4', 'arg2': 'T5'},\n {'relation_type': 'Condition_Of', 'arg1': 'T4', 'arg2': 'T6'},\n {'relation_type': 'Condition_Of', 'arg1': 'T11', 'arg2': 'T9'},\n {'relation_type': 'Input', 'arg1': 'T12', 'arg2': 'T11'},\n {'relation_type': 'Condition_Of', 'arg1': 'T13', 'arg2': 'T10'},\n {'relation_type': 'Input', 'arg1': 'T13', 'arg2': 'T11'},\n {'relation_type': 'Condition_Of', 'arg1': 'T16', 'arg2': 'T15'},\n {'relation_type': 'Form_Of', 'arg1': 'T22', 'arg2': 'T23'},\n {'relation_type': 'Form_Of', 'arg1': 'T27', 'arg2': 'T26'},\n {'relation_type': 'Output', 'arg1': 'T28', 'arg2': 'T26'},\n {'relation_type': 'Form_Of', 'arg1': 'T30', 'arg2': 'T29'},\n {'relation_type': 'Form_Of', 'arg1': 'T32', 'arg2': 'T34'},\n {'relation_type': 'Coref', 'arg1': 'T33', 'arg2': 'T32'},\n {'relation_type': 'Number_of', 'arg1': 'T36', 'arg2': 'T37'},\n {'relation_type': 'Amount_of', 'arg1': 'T37', 'arg2': 'T35'},\n {'relation_type': 'Coref', 'arg1': 'T40', 'arg2': 'T39'},\n {'relation_type': 'Condition_Of', 'arg1': 'T41', 'arg2': 'T38'},\n {'relation_type': 'Condition_Of', 'arg1': 'T41', 'arg2': 'T44'},\n {'relation_type': 'Number_of', 'arg1': 'T42', 'arg2': 'T43'},\n {'relation_type': 'Amount_of', 'arg1': 'T43', 'arg2': 'T41'}]"
     },
     "execution_count": 36,
     "metadata": {},
     "output_type": "execute_result"
    }
   ],
   "source": [
    "relations = section.metadata[\"in_section_relations\"]\n",
    "relations"
   ],
   "metadata": {
    "collapsed": false,
    "ExecuteTime": {
     "end_time": "2024-03-16T20:40:18.276195Z",
     "start_time": "2024-03-16T20:40:18.246805Z"
    }
   },
   "execution_count": 36
  },
  {
   "cell_type": "code",
   "outputs": [],
   "source": [
    "for relation in relations:\n",
    "  assert relation[\"arg1\"] in entities_by_id\n",
    "  assert relation[\"arg2\"] in entities_by_id"
   ],
   "metadata": {
    "collapsed": false,
    "ExecuteTime": {
     "end_time": "2024-03-16T20:41:48.086095Z",
     "start_time": "2024-03-16T20:41:48.034255Z"
    }
   },
   "execution_count": 37
  },
  {
   "cell_type": "code",
   "outputs": [],
   "source": [],
   "metadata": {
    "collapsed": false
   }
  }
 ],
 "metadata": {
  "kernelspec": {
   "display_name": "papermage",
   "language": "python",
   "name": "python3"
  },
  "language_info": {
   "codemirror_mode": {
    "name": "ipython",
    "version": 3
   },
   "file_extension": ".py",
   "mimetype": "text/x-python",
   "name": "python",
   "nbconvert_exporter": "python",
   "pygments_lexer": "ipython3",
   "version": "3.11.7"
  }
 },
 "nbformat": 4,
 "nbformat_minor": 2
}
