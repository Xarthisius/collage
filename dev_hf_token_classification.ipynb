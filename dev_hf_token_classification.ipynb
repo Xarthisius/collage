{
 "cells": [
  {
   "cell_type": "code",
   "outputs": [],
   "source": [
    "from dataclasses import dataclass\n",
    "import re\n",
    "\n",
    "import spacy\n",
    "from spacy import displacy\n",
    "import torch\n",
    "from transformers import AutoTokenizer, AutoModelForTokenClassification"
   ],
   "metadata": {
    "collapsed": false,
    "ExecuteTime": {
     "end_time": "2024-06-24T20:51:57.251905Z",
     "start_time": "2024-06-24T20:51:57.247063Z"
    }
   },
   "id": "ddd8a7224c705344",
   "execution_count": 50
  },
  {
   "cell_type": "code",
   "outputs": [],
   "source": [
    "MODEL_NAME = \"tner/roberta-large-ontonotes5\""
   ],
   "metadata": {
    "collapsed": false,
    "ExecuteTime": {
     "end_time": "2024-06-24T20:08:06.636049Z",
     "start_time": "2024-06-24T20:08:06.634159Z"
    }
   },
   "id": "2f7144d022f5ec73",
   "execution_count": 2
  },
  {
   "cell_type": "code",
   "outputs": [
    {
     "name": "stderr",
     "output_type": "stream",
     "text": [
      "/Users/sireeshgururaja/miniconda3/envs/papermage/lib/python3.11/site-packages/torch/_utils.py:831: UserWarning: TypedStorage is deprecated. It will be removed in the future and UntypedStorage will be the only storage class. This should only matter to you if you are using storages directly.  To access UntypedStorage directly, use tensor.untyped_storage() instead of tensor.storage()\n",
      "  return self.fget.__get__(instance, owner)()\n"
     ]
    }
   ],
   "source": [
    "tokenizer = AutoTokenizer.from_pretrained(MODEL_NAME)\n",
    "model = AutoModelForTokenClassification.from_pretrained(MODEL_NAME).to(\"mps\")"
   ],
   "metadata": {
    "collapsed": false,
    "ExecuteTime": {
     "end_time": "2024-06-24T20:08:07.804762Z",
     "start_time": "2024-06-24T20:08:06.636717Z"
    }
   },
   "id": "ff26a78da726578f",
   "execution_count": 3
  },
  {
   "cell_type": "code",
   "outputs": [],
   "source": [
    "spacy_pipeline = spacy.load(\"en_core_web_sm\", exclude=[\"tagger\", \"parser\", \"ner\", \"lemmatizer\", \"tok2vec\"])"
   ],
   "metadata": {
    "collapsed": false,
    "ExecuteTime": {
     "end_time": "2024-06-24T20:08:08.136434Z",
     "start_time": "2024-06-24T20:08:07.805524Z"
    }
   },
   "id": "ed8dd22857155b5",
   "execution_count": 4
  },
  {
   "cell_type": "code",
   "outputs": [],
   "source": [
    "sample_texts = [\n",
    "\"\"\"Existing additively manufactured aluminum alloys exhibit poor creep resistance due to coarsening of their strengthening phases and refined grain structures.\"\"\",\n",
    "\"\"\"In this paper, we report on a novel additively manufactured Al-10.5Ce-3.1Ni-1.2Mn wt.% alloy which displays excellent creep resistance relative to cast high-temperature aluminum alloys at 300–400°C.\"\"\",\n",
    "\"\"\"The creep resistance of this alloy is attributed to a high volume fraction (∼35%) of submicron intermetallic strengthening phases which are coarsening-resistant for hundreds of hours at 350°C.\"\"\",\n",
    "\"\"\"The results herein demonstrate that additive manufacturing provides opportunities for development of creep-resistant aluminum alloys that may be used in bulk form in the 250–400°C temperature range.\"\"\", \n",
    "\"\"\"Pathways for further development of such alloys are identified.\"\"\", \n",
    "]"
   ],
   "metadata": {
    "collapsed": false,
    "ExecuteTime": {
     "end_time": "2024-06-24T20:41:21.300869Z",
     "start_time": "2024-06-24T20:41:21.297738Z"
    }
   },
   "id": "34c2ac3e44eac772",
   "execution_count": 26
  },
  {
   "cell_type": "code",
   "outputs": [],
   "source": [
    "@dataclass\n",
    "class EntityCharSpan:\n",
    "    e_type: str\n",
    "    start_char: int\n",
    "    end_char: int\n",
    "    \n",
    "def get_char_spans_from_labels(label_list: list[str], offset_mapping: list[list[int]], SKIP_LABELS=(\"O\")) -> list[EntityCharSpan]:\n",
    "    annotations_list = []\n",
    "    current_annotation = None\n",
    "    \n",
    "    for label, (offset_start, offset_end) in zip(label_list, offset_mapping):\n",
    "        cleaned_label = re.sub(\"[BIO]-\", \"\", label)\n",
    "        if current_annotation is None:\n",
    "            current_annotation = EntityCharSpan(e_type=cleaned_label, start_char=offset_start, end_char=offset_end)\n",
    "            continue\n",
    "        elif cleaned_label != current_annotation.e_type:\n",
    "            if current_annotation.e_type not in SKIP_LABELS:\n",
    "                annotations_list.append(current_annotation)\n",
    "            current_annotation = EntityCharSpan(e_type=cleaned_label, start_char=offset_start, end_char=offset_end)\n",
    "        elif cleaned_label == current_annotation.e_type:\n",
    "            current_annotation.end_char = offset_end\n",
    "        else:\n",
    "            raise AssertionError(\"Unexpected case!!\")\n",
    "    return annotations_list\n",
    "    \n",
    "\n",
    "def tag_entities(sentences:list[str], tokenizer, model):\n",
    "    tokenized = tokenizer(sentences, return_tensors=\"pt\", padding=True, return_offsets_mapping=True, return_attention_mask=True)\n",
    "    offset_mapping = tokenized.offset_mapping.tolist()\n",
    "    model_output = model(input_ids=tokenized.input_ids.to(\"mps\"), attention_mask=tokenized.attention_mask.to(\"mps\"))\n",
    "    label_idxs = torch.argmax(model_output.logits, dim=-1).tolist()\n",
    "    label_lists = [[model.config.id2label[idx] for idx, attention_value in zip(label_list, attention_mask) if attention_value == 1] for (label_list, attention_mask) in zip(label_idxs, tokenized.attention_mask)]\n",
    "    entity_char_spans = [get_char_spans_from_labels(label_list, instance_offset_mapping) for (label_list, instance_offset_mapping) in zip(label_lists, offset_mapping)]\n",
    "    return entity_char_spans\n",
    "\n",
    "all_annotations = tag_entities(sample_texts[:2], tokenizer, model)"
   ],
   "metadata": {
    "collapsed": false,
    "ExecuteTime": {
     "end_time": "2024-06-24T21:03:12.991568Z",
     "start_time": "2024-06-24T21:03:11.765849Z"
    }
   },
   "id": "66bc806fac2ef592",
   "execution_count": 65
  },
  {
   "cell_type": "code",
   "outputs": [],
   "source": [
    "spacy_docs = [spacy_pipeline(text) for text in sample_texts]"
   ],
   "metadata": {
    "collapsed": false,
    "ExecuteTime": {
     "end_time": "2024-06-24T21:03:38.235683Z",
     "start_time": "2024-06-24T21:03:38.223594Z"
    }
   },
   "id": "f7794a4ff99d10e6",
   "execution_count": 66
  },
  {
   "cell_type": "code",
   "outputs": [],
   "source": [
    "spacy_spans = []\n",
    "for e in all_annotations[1]:\n",
    "    span = spacy_docs[1].char_span(e.start_char, e.end_char, label=e.e_type, alignment_mode=\"expand\")\n",
    "    if span is not None:\n",
    "        spacy_spans.append(span)\n",
    "    \n",
    "spacy_docs[1].spans[\"sc\"] = spacy_spans"
   ],
   "metadata": {
    "collapsed": false,
    "ExecuteTime": {
     "end_time": "2024-06-24T21:04:17.530748Z",
     "start_time": "2024-06-24T21:04:17.527730Z"
    }
   },
   "id": "70c5c1e046a77b05",
   "execution_count": 70
  },
  {
   "cell_type": "code",
   "outputs": [
    {
     "data": {
      "text/plain": "<IPython.core.display.HTML object>",
      "text/html": "<span class=\"tex2jax_ignore\"><div class=\"spans\" style=\"line-height: 2.5; direction: ltr\">In this paper , we report on a novel additively manufactured \n<span style=\"font-weight: bold; display: inline-block; position: relative; height: 94px;\">\n    Al-10.5Ce-3.1Ni-1.2Mn\n    \n<span style=\"background: #e4e7d2; top: 40px; height: 4px; left: -1px; width: calc(100% + 2px); position: absolute;\">\n</span>\n\n<span style=\"background: #e4e7d2; top: 57px; height: 4px; left: -1px; width: calc(100% + 2px); position: absolute;\">\n</span>\n\n<span style=\"background: #e4e7d2; top: 74px; height: 4px; left: -1px; width: calc(100% + 2px); position: absolute;\">\n</span>\n\n    \n<span style=\"background: #e4e7d2; top: 40px; height: 4px; border-top-left-radius: 3px; border-bottom-left-radius: 3px; left: -1px; width: calc(100% + 2px); position: absolute;\">\n    <span style=\"background: #e4e7d2; z-index: 10; color: #000; top: -0.5em; padding: 2px 3px; position: absolute; font-size: 0.6em; font-weight: bold; line-height: 1; border-radius: 3px\">\n        QUANTITY\n    </span>\n</span>\n\n\n<span style=\"background: #e4e7d2; top: 57px; height: 4px; border-top-left-radius: 3px; border-bottom-left-radius: 3px; left: -1px; width: calc(100% + 2px); position: absolute;\">\n    <span style=\"background: #e4e7d2; z-index: 10; color: #000; top: -0.5em; padding: 2px 3px; position: absolute; font-size: 0.6em; font-weight: bold; line-height: 1; border-radius: 3px\">\n        QUANTITY\n    </span>\n</span>\n\n\n<span style=\"background: #e4e7d2; top: 74px; height: 4px; border-top-left-radius: 3px; border-bottom-left-radius: 3px; left: -1px; width: calc(100% + 2px); position: absolute;\">\n    <span style=\"background: #e4e7d2; z-index: 10; color: #000; top: -0.5em; padding: 2px 3px; position: absolute; font-size: 0.6em; font-weight: bold; line-height: 1; border-radius: 3px\">\n        QUANTITY\n    </span>\n</span>\n\n\n</span>\nwt.% alloy which displays excellent creep resistance relative to cast high - temperature aluminum alloys at \n<span style=\"font-weight: bold; display: inline-block; position: relative; height: 60px;\">\n    300–400\n    \n<span style=\"background: #e4e7d2; top: 40px; height: 4px; left: -1px; width: calc(100% + 2px); position: absolute;\">\n</span>\n\n    \n<span style=\"background: #e4e7d2; top: 40px; height: 4px; border-top-left-radius: 3px; border-bottom-left-radius: 3px; left: -1px; width: calc(100% + 2px); position: absolute;\">\n    <span style=\"background: #e4e7d2; z-index: 10; color: #000; top: -0.5em; padding: 2px 3px; position: absolute; font-size: 0.6em; font-weight: bold; line-height: 1; border-radius: 3px\">\n        QUANTITY\n    </span>\n</span>\n\n\n</span>\n\n<span style=\"font-weight: bold; display: inline-block; position: relative; height: 60px;\">\n    °\n    \n<span style=\"background: #e4e7d2; top: 40px; height: 4px; left: -1px; width: calc(100% + 2px); position: absolute;\">\n</span>\n\n    \n</span>\n\n<span style=\"font-weight: bold; display: inline-block; position: relative; height: 60px;\">\n    C\n    \n<span style=\"background: #e4e7d2; top: 40px; height: 4px; left: -1px; width: calc(100% + 2px); position: absolute;\">\n</span>\n\n    \n</span>\n. </div></span>"
     },
     "metadata": {},
     "output_type": "display_data"
    }
   ],
   "source": [
    "displacy.render(spacy_docs[1], style=\"span\")"
   ],
   "metadata": {
    "collapsed": false,
    "ExecuteTime": {
     "end_time": "2024-06-24T21:04:23.384726Z",
     "start_time": "2024-06-24T21:04:23.380042Z"
    }
   },
   "id": "6468c2e139133180",
   "execution_count": 71
  },
  {
   "cell_type": "code",
   "outputs": [],
   "source": [],
   "metadata": {
    "collapsed": false
   },
   "id": "de4326e78223cf55"
  }
 ],
 "metadata": {
  "kernelspec": {
   "display_name": "Python 3",
   "language": "python",
   "name": "python3"
  },
  "language_info": {
   "codemirror_mode": {
    "name": "ipython",
    "version": 2
   },
   "file_extension": ".py",
   "mimetype": "text/x-python",
   "name": "python",
   "nbconvert_exporter": "python",
   "pygments_lexer": "ipython2",
   "version": "2.7.6"
  }
 },
 "nbformat": 4,
 "nbformat_minor": 5
}
