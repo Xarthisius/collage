{
 "cells": [
  {
   "cell_type": "code",
   "outputs": [],
   "source": [
    "import re\n",
    "\n",
    "import spacy\n",
    "from spacy import displacy\n",
    "import torch\n",
    "from transformers import AutoTokenizer, AutoModelForTokenClassification"
   ],
   "metadata": {
    "collapsed": false,
    "ExecuteTime": {
     "end_time": "2024-06-24T20:08:06.633005Z",
     "start_time": "2024-06-24T20:08:04.475596Z"
    }
   },
   "id": "ddd8a7224c705344",
   "execution_count": 1
  },
  {
   "cell_type": "code",
   "outputs": [],
   "source": [
    "MODEL_NAME = \"tner/roberta-large-ontonotes5\""
   ],
   "metadata": {
    "collapsed": false,
    "ExecuteTime": {
     "end_time": "2024-06-24T20:08:06.636049Z",
     "start_time": "2024-06-24T20:08:06.634159Z"
    }
   },
   "id": "2f7144d022f5ec73",
   "execution_count": 2
  },
  {
   "cell_type": "code",
   "outputs": [
    {
     "name": "stderr",
     "output_type": "stream",
     "text": [
      "/Users/sireeshgururaja/miniconda3/envs/papermage/lib/python3.11/site-packages/torch/_utils.py:831: UserWarning: TypedStorage is deprecated. It will be removed in the future and UntypedStorage will be the only storage class. This should only matter to you if you are using storages directly.  To access UntypedStorage directly, use tensor.untyped_storage() instead of tensor.storage()\n",
      "  return self.fget.__get__(instance, owner)()\n"
     ]
    }
   ],
   "source": [
    "tokenizer = AutoTokenizer.from_pretrained(MODEL_NAME)\n",
    "model = AutoModelForTokenClassification.from_pretrained(MODEL_NAME).to(\"mps\")"
   ],
   "metadata": {
    "collapsed": false,
    "ExecuteTime": {
     "end_time": "2024-06-24T20:08:07.804762Z",
     "start_time": "2024-06-24T20:08:06.636717Z"
    }
   },
   "id": "ff26a78da726578f",
   "execution_count": 3
  },
  {
   "cell_type": "code",
   "outputs": [],
   "source": [
    "spacy_pipeline = spacy.load(\"en_core_web_sm\", exclude=[\"tagger\", \"parser\", \"ner\", \"lemmatizer\", \"tok2vec\"])"
   ],
   "metadata": {
    "collapsed": false,
    "ExecuteTime": {
     "end_time": "2024-06-24T20:08:08.136434Z",
     "start_time": "2024-06-24T20:08:07.805524Z"
    }
   },
   "id": "ed8dd22857155b5",
   "execution_count": 4
  },
  {
   "cell_type": "code",
   "outputs": [],
   "source": [
    "sample_text = \"\"\"Existing additively manufactured aluminum alloys exhibit poor creep resistance due to coarsening of their strengthening phases and refined grain structures. In this paper, we report on a novel additively manufactured Al-10.5Ce-3.1Ni-1.2Mn wt.% alloy which displays excellent creep resistance relative to cast high-temperature aluminum alloys at 300–400°C. The creep resistance of this alloy is attributed to a high volume fraction (∼35%) of submicron intermetallic strengthening phases which are coarsening-resistant for hundreds of hours at 350°C. The results herein demonstrate that additive manufacturing provides opportunities for development of creep-resistant aluminum alloys that may be used in bulk form in the 250–400°C temperature range. Pathways for further development of such alloys are identified.\"\"\""
   ],
   "metadata": {
    "collapsed": false,
    "ExecuteTime": {
     "end_time": "2024-06-24T20:08:08.140255Z",
     "start_time": "2024-06-24T20:08:08.138253Z"
    }
   },
   "id": "34c2ac3e44eac772",
   "execution_count": 5
  },
  {
   "cell_type": "code",
   "outputs": [],
   "source": [
    "tokenized_dict = tokenizer(sample_text, return_tensors=\"pt\", return_offsets_mapping=True)\n",
    "offset_mapping = torch.squeeze(tokenized_dict.offset_mapping) \n",
    "\n",
    "model_output = model(input_ids=tokenized_dict.input_ids.to(\"mps\"))"
   ],
   "metadata": {
    "collapsed": false,
    "ExecuteTime": {
     "end_time": "2024-06-24T20:08:08.629988Z",
     "start_time": "2024-06-24T20:08:08.140906Z"
    }
   },
   "id": "a29fd22f86b6ef1",
   "execution_count": 6
  },
  {
   "cell_type": "code",
   "outputs": [],
   "source": [
    "label_idxs = torch.squeeze(torch.argmax(model_output.logits, dim=-1)).tolist()\n",
    "label_list = [model.config.id2label[idx] for idx in label_idxs] "
   ],
   "metadata": {
    "collapsed": false,
    "ExecuteTime": {
     "end_time": "2024-06-24T20:08:08.656039Z",
     "start_time": "2024-06-24T20:08:08.630824Z"
    }
   },
   "id": "31393d57e3a46891",
   "execution_count": 7
  },
  {
   "cell_type": "code",
   "outputs": [],
   "source": [
    "spacy_doc = spacy_pipeline(sample_text)"
   ],
   "metadata": {
    "collapsed": false,
    "ExecuteTime": {
     "end_time": "2024-06-24T20:08:08.664708Z",
     "start_time": "2024-06-24T20:08:08.658420Z"
    }
   },
   "id": "635122bc65e51570",
   "execution_count": 8
  },
  {
   "cell_type": "code",
   "outputs": [],
   "source": [
    "SKIP_LABELS = [\"O\"]\n",
    "\n",
    "annotations_list = []\n",
    "\n",
    "current_annotation = None\n",
    "\n",
    "for label, (offset_start, offset_end) in zip(label_list, offset_mapping.tolist()):\n",
    "    cleaned_label = re.sub(\"[BIO]-\", \"\", label)\n",
    "    if current_annotation is None:\n",
    "        current_annotation = (cleaned_label, offset_start, offset_end)\n",
    "        continue\n",
    "    elif cleaned_label != current_annotation[0]:\n",
    "        if current_annotation[0] not in SKIP_LABELS:\n",
    "            annotations_list.append(current_annotation)\n",
    "        current_annotation = (cleaned_label, offset_start, offset_end)\n",
    "    elif cleaned_label == current_annotation[0]:\n",
    "        current_annotation = (current_annotation[0], current_annotation[1], offset_end)\n",
    "    else:\n",
    "        raise AssertionError   \n",
    "    \n",
    "\n",
    "spacy_spans = []\n",
    "for e_type, start_char, end_char in annotations_list:\n",
    "    span = spacy_doc.char_span(start_char, end_char, label=e_type, alignment_mode=\"expand\")\n",
    "    if span is not None:\n",
    "        spacy_spans.append(span)\n",
    "    \n",
    "spacy_doc.spans[\"sc\"] = spacy_spans"
   ],
   "metadata": {
    "collapsed": false,
    "ExecuteTime": {
     "end_time": "2024-06-24T20:09:49.116843Z",
     "start_time": "2024-06-24T20:09:49.109092Z"
    }
   },
   "id": "70c5c1e046a77b05",
   "execution_count": 23
  },
  {
   "cell_type": "code",
   "outputs": [
    {
     "data": {
      "text/plain": "<IPython.core.display.HTML object>",
      "text/html": "<span class=\"tex2jax_ignore\"><div class=\"spans\" style=\"line-height: 2.5; direction: ltr\">Existing additively manufactured aluminum alloys exhibit poor creep resistance due to coarsening of their strengthening phases and refined grain structures . In this paper , we report on a novel additively manufactured \n<span style=\"font-weight: bold; display: inline-block; position: relative; height: 77px;\">\n    Al-10.5Ce-3.1Ni-1.2Mn\n    \n<span style=\"background: #e4e7d2; top: 40px; height: 4px; left: -1px; width: calc(100% + 2px); position: absolute;\">\n</span>\n\n<span style=\"background: #e4e7d2; top: 57px; height: 4px; left: -1px; width: calc(100% + 2px); position: absolute;\">\n</span>\n\n    \n<span style=\"background: #e4e7d2; top: 40px; height: 4px; border-top-left-radius: 3px; border-bottom-left-radius: 3px; left: -1px; width: calc(100% + 2px); position: absolute;\">\n    <span style=\"background: #e4e7d2; z-index: 10; color: #000; top: -0.5em; padding: 2px 3px; position: absolute; font-size: 0.6em; font-weight: bold; line-height: 1; border-radius: 3px\">\n        PERCENT\n    </span>\n</span>\n\n\n<span style=\"background: #e4e7d2; top: 57px; height: 4px; border-top-left-radius: 3px; border-bottom-left-radius: 3px; left: -1px; width: calc(100% + 2px); position: absolute;\">\n    <span style=\"background: #e4e7d2; z-index: 10; color: #000; top: -0.5em; padding: 2px 3px; position: absolute; font-size: 0.6em; font-weight: bold; line-height: 1; border-radius: 3px\">\n        QUANTITY\n    </span>\n</span>\n\n\n</span>\nwt.% alloy which displays excellent creep resistance relative to cast high - temperature aluminum alloys at \n<span style=\"font-weight: bold; display: inline-block; position: relative; height: 60px;\">\n    300–400\n    \n<span style=\"background: #e4e7d2; top: 40px; height: 4px; left: -1px; width: calc(100% + 2px); position: absolute;\">\n</span>\n\n    \n<span style=\"background: #e4e7d2; top: 40px; height: 4px; border-top-left-radius: 3px; border-bottom-left-radius: 3px; left: -1px; width: calc(100% + 2px); position: absolute;\">\n    <span style=\"background: #e4e7d2; z-index: 10; color: #000; top: -0.5em; padding: 2px 3px; position: absolute; font-size: 0.6em; font-weight: bold; line-height: 1; border-radius: 3px\">\n        QUANTITY\n    </span>\n</span>\n\n\n</span>\n\n<span style=\"font-weight: bold; display: inline-block; position: relative; height: 60px;\">\n    °\n    \n<span style=\"background: #e4e7d2; top: 40px; height: 4px; left: -1px; width: calc(100% + 2px); position: absolute;\">\n</span>\n\n    \n</span>\n\n<span style=\"font-weight: bold; display: inline-block; position: relative; height: 60px;\">\n    C\n    \n<span style=\"background: #e4e7d2; top: 40px; height: 4px; left: -1px; width: calc(100% + 2px); position: absolute;\">\n</span>\n\n    \n</span>\n. The creep resistance of this alloy is attributed to a high volume fraction ( \n<span style=\"font-weight: bold; display: inline-block; position: relative; height: 60px;\">\n    ∼35\n    \n<span style=\"background: #e4e7d2; top: 40px; height: 4px; left: -1px; width: calc(100% + 2px); position: absolute;\">\n</span>\n\n    \n<span style=\"background: #e4e7d2; top: 40px; height: 4px; border-top-left-radius: 3px; border-bottom-left-radius: 3px; left: -1px; width: calc(100% + 2px); position: absolute;\">\n    <span style=\"background: #e4e7d2; z-index: 10; color: #000; top: -0.5em; padding: 2px 3px; position: absolute; font-size: 0.6em; font-weight: bold; line-height: 1; border-radius: 3px\">\n        PERCENT\n    </span>\n</span>\n\n\n</span>\n\n<span style=\"font-weight: bold; display: inline-block; position: relative; height: 60px;\">\n    %\n    \n<span style=\"background: #e4e7d2; top: 40px; height: 4px; left: -1px; width: calc(100% + 2px); position: absolute;\">\n</span>\n\n    \n</span>\n\n<span style=\"font-weight: bold; display: inline-block; position: relative; height: 60px;\">\n    )\n    \n<span style=\"background: #e4e7d2; top: 40px; height: 4px; left: -1px; width: calc(100% + 2px); position: absolute;\">\n</span>\n\n    \n</span>\nof \n<span style=\"font-weight: bold; display: inline-block; position: relative; height: 60px;\">\n    submicron\n    \n<span style=\"background: #e4e7d2; top: 40px; height: 4px; left: -1px; width: calc(100% + 2px); position: absolute;\">\n</span>\n\n    \n<span style=\"background: #e4e7d2; top: 40px; height: 4px; border-top-left-radius: 3px; border-bottom-left-radius: 3px; left: -1px; width: calc(100% + 2px); position: absolute;\">\n    <span style=\"background: #e4e7d2; z-index: 10; color: #000; top: -0.5em; padding: 2px 3px; position: absolute; font-size: 0.6em; font-weight: bold; line-height: 1; border-radius: 3px\">\n        QUANTITY\n    </span>\n</span>\n\n\n</span>\nintermetallic strengthening phases which are coarsening - resistant for \n<span style=\"font-weight: bold; display: inline-block; position: relative; height: 60px;\">\n    hundreds\n    \n<span style=\"background: #bfe1d9; top: 40px; height: 4px; left: -1px; width: calc(100% + 2px); position: absolute;\">\n</span>\n\n    \n<span style=\"background: #bfe1d9; top: 40px; height: 4px; border-top-left-radius: 3px; border-bottom-left-radius: 3px; left: -1px; width: calc(100% + 2px); position: absolute;\">\n    <span style=\"background: #bfe1d9; z-index: 10; color: #000; top: -0.5em; padding: 2px 3px; position: absolute; font-size: 0.6em; font-weight: bold; line-height: 1; border-radius: 3px\">\n        TIME\n    </span>\n</span>\n\n\n</span>\n\n<span style=\"font-weight: bold; display: inline-block; position: relative; height: 60px;\">\n    of\n    \n<span style=\"background: #bfe1d9; top: 40px; height: 4px; left: -1px; width: calc(100% + 2px); position: absolute;\">\n</span>\n\n    \n</span>\n\n<span style=\"font-weight: bold; display: inline-block; position: relative; height: 60px;\">\n    hours\n    \n<span style=\"background: #bfe1d9; top: 40px; height: 4px; left: -1px; width: calc(100% + 2px); position: absolute;\">\n</span>\n\n    \n</span>\nat \n<span style=\"font-weight: bold; display: inline-block; position: relative; height: 60px;\">\n    350\n    \n<span style=\"background: #e4e7d2; top: 40px; height: 4px; left: -1px; width: calc(100% + 2px); position: absolute;\">\n</span>\n\n    \n<span style=\"background: #e4e7d2; top: 40px; height: 4px; border-top-left-radius: 3px; border-bottom-left-radius: 3px; left: -1px; width: calc(100% + 2px); position: absolute;\">\n    <span style=\"background: #e4e7d2; z-index: 10; color: #000; top: -0.5em; padding: 2px 3px; position: absolute; font-size: 0.6em; font-weight: bold; line-height: 1; border-radius: 3px\">\n        QUANTITY\n    </span>\n</span>\n\n\n</span>\n\n<span style=\"font-weight: bold; display: inline-block; position: relative; height: 60px;\">\n    °\n    \n<span style=\"background: #e4e7d2; top: 40px; height: 4px; left: -1px; width: calc(100% + 2px); position: absolute;\">\n</span>\n\n    \n</span>\n\n<span style=\"font-weight: bold; display: inline-block; position: relative; height: 60px;\">\n    C\n    \n<span style=\"background: #e4e7d2; top: 40px; height: 4px; left: -1px; width: calc(100% + 2px); position: absolute;\">\n</span>\n\n    \n</span>\n. The results herein demonstrate that additive manufacturing provides opportunities for development of creep - resistant aluminum alloys that may be used in bulk form in the \n<span style=\"font-weight: bold; display: inline-block; position: relative; height: 60px;\">\n    250–400\n    \n<span style=\"background: #e4e7d2; top: 40px; height: 4px; left: -1px; width: calc(100% + 2px); position: absolute;\">\n</span>\n\n    \n<span style=\"background: #e4e7d2; top: 40px; height: 4px; border-top-left-radius: 3px; border-bottom-left-radius: 3px; left: -1px; width: calc(100% + 2px); position: absolute;\">\n    <span style=\"background: #e4e7d2; z-index: 10; color: #000; top: -0.5em; padding: 2px 3px; position: absolute; font-size: 0.6em; font-weight: bold; line-height: 1; border-radius: 3px\">\n        QUANTITY\n    </span>\n</span>\n\n\n</span>\n\n<span style=\"font-weight: bold; display: inline-block; position: relative; height: 60px;\">\n    °\n    \n<span style=\"background: #e4e7d2; top: 40px; height: 4px; left: -1px; width: calc(100% + 2px); position: absolute;\">\n</span>\n\n    \n</span>\n\n<span style=\"font-weight: bold; display: inline-block; position: relative; height: 60px;\">\n    C\n    \n<span style=\"background: #e4e7d2; top: 40px; height: 4px; left: -1px; width: calc(100% + 2px); position: absolute;\">\n</span>\n\n    \n</span>\ntemperature range . Pathways for further development of such alloys are identified . </div></span>"
     },
     "metadata": {},
     "output_type": "display_data"
    }
   ],
   "source": [
    "displacy.render(spacy_doc, style=\"span\")"
   ],
   "metadata": {
    "collapsed": false,
    "ExecuteTime": {
     "end_time": "2024-06-24T20:09:51.445019Z",
     "start_time": "2024-06-24T20:09:51.439251Z"
    }
   },
   "id": "6468c2e139133180",
   "execution_count": 24
  },
  {
   "cell_type": "code",
   "outputs": [],
   "source": [],
   "metadata": {
    "collapsed": false
   },
   "id": "de4326e78223cf55"
  }
 ],
 "metadata": {
  "kernelspec": {
   "display_name": "Python 3",
   "language": "python",
   "name": "python3"
  },
  "language_info": {
   "codemirror_mode": {
    "name": "ipython",
    "version": 2
   },
   "file_extension": ".py",
   "mimetype": "text/x-python",
   "name": "python",
   "nbconvert_exporter": "python",
   "pygments_lexer": "ipython2",
   "version": "2.7.6"
  }
 },
 "nbformat": 4,
 "nbformat_minor": 5
}
