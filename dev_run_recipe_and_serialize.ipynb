{
 "cells": [
  {
   "cell_type": "code",
   "metadata": {},
   "source": [
    "import json\n",
    "import logging\n",
    "\n",
    "from papermage_components.materials_recipe import MaterialsRecipe"
   ],
   "outputs": [],
   "execution_count": null
  },
  {
   "cell_type": "code",
   "metadata": {},
   "source": [
    "logging.basicConfig(level=logging.INFO)"
   ],
   "outputs": [],
   "execution_count": null
  },
  {
   "cell_type": "code",
   "metadata": {},
   "source": [
    "recipe = MaterialsRecipe(\n",
    "        matIE_directory=\"\",\n",
    "        grobid_server_url=\"http://windhoek.sp.cs.cmu.edu:8070\",\n",
    "    )"
   ],
   "outputs": [],
   "execution_count": null
  },
  {
   "metadata": {},
   "cell_type": "code",
   "source": "pdf_filename = \"data/AM_Creep_Papers/A creep-resistant additively manufactured Al-Ce-Ni-Mn alloy.pdf\"",
   "outputs": [],
   "execution_count": null
  },
  {
   "metadata": {},
   "cell_type": "code",
   "source": "parsed_paper = recipe.from_pdf(pdf_filename)",
   "outputs": [],
   "execution_count": null
  },
  {
   "metadata": {},
   "cell_type": "code",
   "source": [
    "with open(pdf_filename.replace(\"AM_Creep_Papers\", \"AM_Creep_Papers_parsed\").replace(\".pdf\", \".json\"), \"w\") as f:\n",
    "  json.dump(parsed_paper.to_json(), f, indent=4)"
   ],
   "outputs": [],
   "execution_count": null
  },
  {
   "metadata": {},
   "cell_type": "code",
   "source": "",
   "outputs": [],
   "execution_count": null
  },
  {
   "cell_type": "code",
   "metadata": {
    "collapsed": false
   },
   "source": [],
   "outputs": [],
   "execution_count": null
  }
 ],
 "metadata": {
  "kernelspec": {
   "display_name": "papermage",
   "language": "python",
   "name": "python3"
  },
  "language_info": {
   "codemirror_mode": {
    "name": "ipython",
    "version": 3
   },
   "file_extension": ".py",
   "mimetype": "text/x-python",
   "name": "python",
   "nbconvert_exporter": "python",
   "pygments_lexer": "ipython3",
   "version": "3.11.9"
  }
 },
 "nbformat": 4,
 "nbformat_minor": 2
}
