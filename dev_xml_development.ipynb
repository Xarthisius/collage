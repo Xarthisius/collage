{
 "cells": [
  {
   "cell_type": "code",
   "execution_count": 53,
   "metadata": {
    "collapsed": true
   },
   "outputs": [],
   "source": [
    "from collections import defaultdict\n",
    "import itertools\n",
    "import json\n",
    "import os\n",
    "import re\n",
    "import warnings\n",
    "import xml.etree.ElementTree as et\n",
    "from collections import defaultdict\n",
    "from tempfile import NamedTemporaryFile\n",
    "from typing import Any, Dict, List, Optional, Tuple, cast\n",
    "\n",
    "import numpy as np\n",
    "from grobid_client.grobid_client import GrobidClient\n",
    "\n",
    "\n",
    "from papermage.magelib import (\n",
    "    BlocksFieldName,\n",
    "    Box,\n",
    "    Document,\n",
    "    Entity,\n",
    "    Metadata,\n",
    "    PagesFieldName,\n",
    "    RowsFieldName,\n",
    "    Span,\n",
    "    TokensFieldName,\n",
    ")\n",
    "from papermage.magelib.box import Box\n",
    "from papermage.parsers.parser import Parser\n",
    "from papermage.parsers.grobid_parser import GROBID_VILA_MAP\n",
    "from papermage.utils.merge import cluster_and_merge_neighbor_spans\n",
    "\n",
    "from papermage_components.reading_order_predictor import *"
   ]
  },
  {
   "cell_type": "code",
   "execution_count": 54,
   "outputs": [],
   "source": [
    "NS = {\"tei\": \"http://www.tei-c.org/ns/1.0\"}\n",
    "grobid_server_url = \"http://himalayan.lti.cs.cmu.edu:8070\"\n",
    "input_pdf_path = \"data/AM_Creep_Papers/On the creep performance of the Ti‐6Al‐4V alloy processed by additive manufacturing.pdf\""
   ],
   "metadata": {
    "collapsed": false
   }
  },
  {
   "cell_type": "code",
   "execution_count": 4,
   "outputs": [
    {
     "name": "stdout",
     "output_type": "stream",
     "text": [
      "GROBID server is up and running\n"
     ]
    }
   ],
   "source": [
    "grobid_config = {\n",
    "            \"grobid_server\": grobid_server_url,\n",
    "            \"batch_size\": 1000,\n",
    "            \"sleep_time\": 5,\n",
    "            \"timeout\": 60,\n",
    "            \"coordinates\": sorted(\n",
    "                set((*GROBID_VILA_MAP.keys(), \"s\", \"ref\", \"body\", \"item\", \"persName\"))\n",
    "            ),\n",
    "        }\n",
    "with NamedTemporaryFile(mode=\"w\", delete=False) as f:\n",
    "    json.dump(grobid_config, f)\n",
    "    config_path = f.name\n",
    "\n",
    "client = GrobidClient(config_path=config_path, check_server=True)"
   ],
   "metadata": {
    "collapsed": false
   }
  },
  {
   "cell_type": "code",
   "execution_count": 19,
   "outputs": [],
   "source": [
    "(_, _, xml) = client.process_pdf(\n",
    "            service=\"processFulltextDocument\",\n",
    "            pdf_file=input_pdf_path,\n",
    "            generateIDs=False,\n",
    "            consolidate_header=False,\n",
    "            consolidate_citations=False,\n",
    "            include_raw_citations=False,\n",
    "            include_raw_affiliations=False,\n",
    "            tei_coordinates=True,\n",
    "            segment_sentences=True,\n",
    "        )\n",
    "\n",
    "xml_root = et.fromstring(xml)"
   ],
   "metadata": {
    "collapsed": false
   }
  },
  {
   "cell_type": "code",
   "execution_count": 22,
   "outputs": [],
   "source": [
    "page_dimensions = get_page_dimensions(xml_root)\n",
    "section_to_boxes = get_coords_by_section(xml_root, page_dimensions)\n",
    "consolidated_boxes = {\n",
    "    section: segment_and_consolidate_boxes(section_boxes)\n",
    "    for section, section_boxes in section_to_boxes.items()\n",
    "}\n"
   ],
   "metadata": {
    "collapsed": false
   }
  },
  {
   "cell_type": "markdown",
   "source": [],
   "metadata": {
    "collapsed": false
   }
  },
  {
   "cell_type": "code",
   "execution_count": null,
   "outputs": [],
   "source": [
    "segment_and_consolidate_boxes(section_to_boxes[\"\"])"
   ],
   "metadata": {
    "collapsed": false
   }
  }
 ],
 "metadata": {
  "kernelspec": {
   "display_name": "Python 3",
   "language": "python",
   "name": "python3"
  },
  "language_info": {
   "codemirror_mode": {
    "name": "ipython",
    "version": 2
   },
   "file_extension": ".py",
   "mimetype": "text/x-python",
   "name": "python",
   "nbconvert_exporter": "python",
   "pygments_lexer": "ipython2",
   "version": "2.7.6"
  }
 },
 "nbformat": 4,
 "nbformat_minor": 0
}
