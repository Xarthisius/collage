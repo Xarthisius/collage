{
 "cells": [
  {
   "cell_type": "code",
   "id": "initial_id",
   "metadata": {
    "collapsed": true,
    "ExecuteTime": {
     "end_time": "2024-07-02T18:34:21.852243Z",
     "start_time": "2024-07-02T18:34:18.085332Z"
    }
   },
   "source": [
    "import json\n",
    "import os\n",
    "\n",
    "import openai\n",
    "from papermage import Document\n",
    "\n",
    "from papermage_components.GPT_predictor import GPT_predictor"
   ],
   "outputs": [],
   "execution_count": 1
  },
  {
   "cell_type": "code",
   "source": [
    "json_filename = \"data/Midyear_Review_Papers_Parsed/microstructure and properties of 3d needle-punched carbon-silicon carbide brake materials.json\"\n",
    "\n",
    "with open(json_filename) as f:\n",
    "  parsed_paper = Document.from_json(json.load(f))"
   ],
   "metadata": {
    "collapsed": false,
    "ExecuteTime": {
     "end_time": "2024-07-02T18:36:46.264131Z",
     "start_time": "2024-07-02T18:36:46.064819Z"
    }
   },
   "id": "1a5b95c2555efe0e",
   "outputs": [],
   "execution_count": 3
  },
  {
   "cell_type": "code",
   "source": [
    "parsed_paper"
   ],
   "metadata": {
    "collapsed": false,
    "ExecuteTime": {
     "end_time": "2024-07-02T18:36:47.999447Z",
     "start_time": "2024-07-02T18:36:47.994949Z"
    }
   },
   "id": "2ee5e926484414f7",
   "outputs": [
    {
     "data": {
      "text/plain": [
       "Document with 42 layers: ['symbols', 'images', 'metadata', 'tokens', 'rows', 'pages', 'reading_order_sections', 'words', 'sentences', 'Application', 'Result', 'Property', 'Phenomenon', 'Environment', 'Material', 'MStructure', 'Operation', 'Descriptor', 'Number', 'Amount_Unit', 'Synthesis', 'Participating_Material', 'Characterization', 'Microstructure', 'blocks', 'vila_entities', 'titles', 'paragraphs', 'authors', 'abstracts', 'keywords', 'sections', 'lists', 'bibliographies', 'equations', 'algorithms', 'figures', 'tables', 'captions', 'headers', 'footers', 'footnotes']"
      ]
     },
     "execution_count": 4,
     "metadata": {},
     "output_type": "execute_result"
    }
   ],
   "execution_count": 4
  },
  {
   "cell_type": "code",
   "source": "parsed_paper.tables[0]  ",
   "metadata": {
    "collapsed": false,
    "ExecuteTime": {
     "end_time": "2024-07-02T18:38:22.586571Z",
     "start_time": "2024-07-02T18:38:22.581564Z"
    }
   },
   "id": "7bf5dd2bc2bab7ae",
   "outputs": [
    {
     "data": {
      "text/plain": [
       "[]"
      ]
     },
     "execution_count": 7,
     "metadata": {},
     "output_type": "execute_result"
    }
   ],
   "execution_count": 7
  },
  {
   "metadata": {},
   "cell_type": "code",
   "outputs": [],
   "execution_count": null,
   "source": "",
   "id": "c099c1516afc2765"
  }
 ],
 "metadata": {
  "kernelspec": {
   "display_name": "Python 3",
   "language": "python",
   "name": "python3"
  },
  "language_info": {
   "codemirror_mode": {
    "name": "ipython",
    "version": 2
   },
   "file_extension": ".py",
   "mimetype": "text/x-python",
   "name": "python",
   "nbconvert_exporter": "python",
   "pygments_lexer": "ipython2",
   "version": "2.7.6"
  }
 },
 "nbformat": 4,
 "nbformat_minor": 5
}
